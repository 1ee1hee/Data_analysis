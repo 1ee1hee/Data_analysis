{
 "cells": [
  {
   "cell_type": "markdown",
   "id": "9625f3dd-5ce4-4370-b84c-f5e744639649",
   "metadata": {},
   "source": [
    "# 광고 클릭율 데이터 분석"
   ]
  },
  {
   "cell_type": "markdown",
   "id": "ce667687-4266-4b64-abb4-94bc519207bc",
   "metadata": {},
   "source": [
    "## 데이터 불러오기\n",
    "- kaggle의 Click-Through Rate Prediction 데이터 사용"
   ]
  },
  {
   "cell_type": "code",
   "execution_count": 4,
   "id": "546c41c9-040d-440b-8059-9d4d0f6f704f",
   "metadata": {},
   "outputs": [
    {
     "name": "stdout",
     "output_type": "stream",
     "text": [
      "<class 'pandas.core.frame.DataFrame'>\n",
      "RangeIndex: 10000 entries, 0 to 9999\n",
      "Data columns (total 10 columns):\n",
      " #   Column                    Non-Null Count  Dtype  \n",
      "---  ------                    --------------  -----  \n",
      " 0   Daily Time Spent on Site  10000 non-null  float64\n",
      " 1   Age                       10000 non-null  float64\n",
      " 2   Area Income               10000 non-null  float64\n",
      " 3   Daily Internet Usage      10000 non-null  float64\n",
      " 4   Ad Topic Line             10000 non-null  object \n",
      " 5   City                      10000 non-null  object \n",
      " 6   Gender                    10000 non-null  object \n",
      " 7   Country                   10000 non-null  object \n",
      " 8   Timestamp                 10000 non-null  object \n",
      " 9   Clicked on Ad             10000 non-null  int64  \n",
      "dtypes: float64(4), int64(1), object(5)\n",
      "memory usage: 781.4+ KB\n",
      "None\n"
     ]
    }
   ],
   "source": [
    "import pandas as pd\n",
    "\n",
    "data = pd.read_csv('data/ads_data.csv')\n",
    "# print(data)\n",
    "print(data.info())"
   ]
  },
  {
   "cell_type": "markdown",
   "id": "aeee78da-0631-4ee6-8f35-88f2ea1c7c57",
   "metadata": {},
   "source": [
    "## 데이터 설명\n",
    "|컬럼|내용|\n",
    "|------------------------|------------------------------------|\n",
    "|Daily Time Spent on Site|사용자가 사이트에서 보낸 시간 (분)|\n",
    "|Age|사용자 나이|\n",
    "|Area Income|사용자가 살고 있는 지역의 평균 수입|\n",
    "|Daily Internet Usage|하루 인터넷 사용 시간 (분)|\n",
    "|Ad Topic Line|광고 제목|\n",
    "|City|사용자 거주 도시|\n",
    "|Gender|성별|\n",
    "|Country|사용자 국가|\n",
    "|Timestamp|광고 노출 시간|\n",
    "|Clicked on Ad|광고 클릭 여부 (0 : 클릭 안함, 1 : 클릭)|"
   ]
  },
  {
   "cell_type": "markdown",
   "id": "7a6463bf-4ae1-4486-bcb6-d9747a1d4296",
   "metadata": {},
   "source": [
    "## 데이터 정리\n",
    "- Timestamp를 datetime 형태로 변환"
   ]
  },
  {
   "cell_type": "code",
   "execution_count": 5,
   "id": "57d1c04c-7bc1-4828-9523-bc452cab699c",
   "metadata": {},
   "outputs": [],
   "source": [
    "data['Timestamp'] = pd.to_datetime(data['Timestamp'])"
   ]
  },
  {
   "cell_type": "code",
   "execution_count": 7,
   "id": "afabfa9e-a790-4149-a58a-c0f5e758c1a7",
   "metadata": {},
   "outputs": [
    {
     "name": "stdout",
     "output_type": "stream",
     "text": [
      "   Daily Time Spent on Site   Age  Area Income  Daily Internet Usage  \\\n",
      "0                     62.26  32.0     69481.85                172.83   \n",
      "1                     41.73  31.0     61840.26                207.17   \n",
      "2                     44.40  30.0     57877.15                172.83   \n",
      "3                     59.88  28.0     56180.93                207.17   \n",
      "4                     49.21  30.0     54324.73                201.58   \n",
      "\n",
      "                         Ad Topic Line             City  Gender  \\\n",
      "0      Decentralized real-time circuit         Lisafort    Male   \n",
      "1       Optional full-range projection  West Angelabury    Male   \n",
      "2  Total 5thgeneration standardization        Reyesfurt  Female   \n",
      "3          Balanced empowering success      New Michael  Female   \n",
      "4  Total 5thgeneration standardization     West Richard  Female   \n",
      "\n",
      "                        Country           Timestamp  Clicked on Ad  \n",
      "0  Svalbard & Jan Mayen Islands 2016-06-09 21:43:05              0  \n",
      "1                     Singapore 2016-01-16 17:56:05              0  \n",
      "2                    Guadeloupe 2016-06-29 10:50:45              0  \n",
      "3                        Zambia 2016-06-21 14:32:32              0  \n",
      "4                         Qatar 2016-07-21 10:54:35              1  \n"
     ]
    }
   ],
   "source": [
    "print(data.head())"
   ]
  },
  {
   "cell_type": "markdown",
   "id": "103518ef-4978-414d-9daa-b31315e999ae",
   "metadata": {},
   "source": [
    "## A/B Test"
   ]
  },
  {
   "cell_type": "markdown",
   "id": "48b0310c-cb9c-402f-8cf7-b356b807ed5e",
   "metadata": {},
   "source": [
    "### 1. 성별에 따른 광고 클릭률\n",
    "- A 그룹 : 남성 사용자\n",
    "- B 그룹 : 여성 사용자\n",
    "- 비교 지표 : 광고 클릭률(Clicked on Ad)"
   ]
  },
  {
   "cell_type": "markdown",
   "id": "e0fd2ec8-aa72-4f19-a739-c488688c39e5",
   "metadata": {},
   "source": [
    "**가설**\n",
    "- 귀무가설 : 성별에 따라 광고 클릭률에 차이가 없다\n",
    "- 대립가설 : 성별에 따라 광고 클릭률에 차이가 있다\n",
    "\n",
    "**가설 설정 이유**\n",
    "- 성별이 광고 클릭에 영향을 미치는지 확인"
   ]
  },
  {
   "cell_type": "code",
   "execution_count": 12,
   "id": "eeeeddb4-5557-46b5-8ea8-b261e4004770",
   "metadata": {},
   "outputs": [
    {
     "name": "stdout",
     "output_type": "stream",
     "text": [
      "Male Click Rate: 0.46\n",
      "Female Click Rate: 0.51\n",
      "T-statistic: -4.97, P-value: 0.0000\n",
      "성별에 따른 클릭률에 통계적으로 유의미한 차이가 있습니다.\n",
      "대립가설 : 성별에 따라 광고 클릭률에 차이가 있습니다.\n"
     ]
    }
   ],
   "source": [
    "male = data[data['Gender'] == 'Male']\n",
    "female = data[data['Gender'] == 'Female']\n",
    "\n",
    "male_click_rate = male['Clicked on Ad'].mean()\n",
    "female_click_rate = female['Clicked on Ad'].mean()\n",
    "# print(male_click_rate, female_click_rate)\n",
    "\n",
    "# t-test 수행 (두 그룹의 클릭률 차이 검정)\n",
    "from scipy.stats import ttest_ind\n",
    "ttest, p_value = ttest_ind(male['Clicked on Ad'], female['Clicked on Ad'])\n",
    "print(f\"Male Click Rate: {male_click_rate:.2f}\")\n",
    "print(f\"Female Click Rate: {female_click_rate:.2f}\")\n",
    "print(f\"T-statistic: {ttest:.2f}, P-value: {p_value:.4f}\")\n",
    "\n",
    "# p_value 가설 해설\n",
    "if p_value < 0.05:\n",
    "    print('성별에 따른 클릭률에 통계적으로 유의미한 차이가 있습니다.')\n",
    "    print('대립가설 : 성별에 따라 광고 클릭률에 차이가 있습니다.')\n",
    "else:\n",
    "    print('성별에 따른 클릭률에 통계적으로 유의미한 차이가 없습니다.')\n",
    "    print('귀무가설 : 성별에 따라 광고 클릭률에 차이가 없습니다.')"
   ]
  },
  {
   "cell_type": "markdown",
   "id": "c548f3f8-726e-4a49-b271-b277b249344b",
   "metadata": {},
   "source": [
    "#### Cohen's d값 확인"
   ]
  },
  {
   "cell_type": "code",
   "execution_count": 14,
   "id": "f28cf520-825d-4012-b6ab-8a674f5a8edd",
   "metadata": {},
   "outputs": [
    {
     "name": "stdout",
     "output_type": "stream",
     "text": [
      "Cohen's d: 0.10\n"
     ]
    }
   ],
   "source": [
    "import numpy as np\n",
    "\n",
    "mean_diff = np.abs(male_click_rate - female_click_rate)\n",
    "std = np.sqrt(((male['Clicked on Ad'].std() ** 2) + (female['Clicked on Ad'].std() ** 2)) / 2)\n",
    "cohen_d = mean_diff / std\n",
    "\n",
    "print(f\"Cohen's d: {cohen_d:.2f}\")"
   ]
  },
  {
   "cell_type": "markdown",
   "id": "6442be80-3e80-462b-8dc7-a779a5a72091",
   "metadata": {},
   "source": [
    "**통계적으로는 유의미하나, 효과 크기는 0.1로 매우 작다. 따라서 전략에 큰 영향을 미칠 가능성이 매우 적다**"
   ]
  },
  {
   "cell_type": "markdown",
   "id": "66260481-6e1f-4c71-b4db-f6524e78d7ef",
   "metadata": {},
   "source": [
    "### 2. 연령별 광고 클릭률"
   ]
  },
  {
   "cell_type": "markdown",
   "id": "2bcf8d08-eaad-4e0f-93e7-f3bc9c407ac5",
   "metadata": {},
   "source": [
    "**가설**\n",
    "- 귀무가설 : 연령대별 클릭률 차이 없다\n",
    "- 대립가설 : 연령대별 클릭률 차이 있다 "
   ]
  },
  {
   "cell_type": "code",
   "execution_count": 52,
   "id": "f7280eac-2bd6-4f8f-85e7-61c927028163",
   "metadata": {},
   "outputs": [
    {
     "name": "stdout",
     "output_type": "stream",
     "text": [
      "stats: 578.1662\n",
      "pvalue: 0.0000\n",
      "귀무가설 기각 -> 연령대별로 클릭률 차이 있다\n"
     ]
    }
   ],
   "source": [
    "from scipy import stats\n",
    "\n",
    "g1 = data[(data['Age'] < 25)]['Clicked on Ad']\n",
    "g2 = data[(data['Age'] >= 25) & (data['Age'] < 30)]['Clicked on Ad']\n",
    "g3 = data[(data['Age'] >= 30) & (data['Age'] < 35)]['Clicked on Ad']\n",
    "g4 = data[(data['Age'] >= 35) & (data['Age'] < 40)]['Clicked on Ad']\n",
    "g5 = data[(data['Age'] >= 40) & (data['Age'] < 45)]['Clicked on Ad']\n",
    "g6 = data[(data['Age'] >= 45)]['Clicked on Ad']\n",
    "\n",
    "f_stat, p_value = stats.f_oneway(g1, g2, g3, g4, g5, g6)\n",
    "\n",
    "print(f'stats: {f_stat:.4f}')\n",
    "print(f'pvalue: {p_value:.4f}')\n",
    "\n",
    "if p_value < 0.05:\n",
    "    print('귀무가설 기각 -> 연령대별로 클릭률 차이 있다')\n",
    "else:\n",
    "    print('귀무가설 채택 -> 연령대별 클릭률 차이 없다')\n"
   ]
  },
  {
   "cell_type": "markdown",
   "id": "9b5df8cc-a7cd-40f0-8488-ef9ce5465ae2",
   "metadata": {},
   "source": [
    "### Tukey's HSD (사후 검정)"
   ]
  },
  {
   "cell_type": "code",
   "execution_count": 67,
   "id": "0931b02a-2185-40d6-9124-abfa7f33a374",
   "metadata": {},
   "outputs": [
    {
     "name": "stdout",
     "output_type": "stream",
     "text": [
      " Multiple Comparison of Means - Tukey HSD, FWER=0.05  \n",
      "======================================================\n",
      " group1  group2 meandiff p-adj   lower   upper  reject\n",
      "------------------------------------------------------\n",
      "group 1 group 2  -0.0599 0.0151 -0.1126 -0.0073   True\n",
      "group 1 group 3   0.0233 0.7975 -0.0287  0.0753  False\n",
      "group 1 group 4    0.168    0.0  0.1162  0.2197   True\n",
      "group 1 group 5   0.4508    0.0  0.3961  0.5055   True\n",
      "group 1 group 6   0.5703    0.0  0.5174  0.6231   True\n",
      "group 2 group 3   0.0832    0.0  0.0427  0.1238   True\n",
      "group 2 group 4   0.2279    0.0  0.1876  0.2681   True\n",
      "group 2 group 5   0.5108    0.0  0.4668  0.5548   True\n",
      "group 2 group 6   0.6302    0.0  0.5886  0.6718   True\n",
      "group 3 group 4   0.1446    0.0  0.1053   0.184   True\n",
      "group 3 group 5   0.4275    0.0  0.3844  0.4707   True\n",
      "group 3 group 6    0.547    0.0  0.5062  0.5877   True\n",
      "group 4 group 5   0.2829    0.0    0.24  0.3257   True\n",
      "group 4 group 6   0.4023    0.0  0.3619  0.4427   True\n",
      "group 5 group 6   0.1195    0.0  0.0753  0.1636   True\n",
      "------------------------------------------------------\n"
     ]
    }
   ],
   "source": [
    "from statsmodels.stats.multicomp import pairwise_tukeyhsd\n",
    "\n",
    "def age_group(age):\n",
    "    if age < 25:\n",
    "        return 'group 1'\n",
    "    elif age < 30:\n",
    "        return 'group 2'\n",
    "    elif age < 35:\n",
    "        return 'group 3'\n",
    "    elif age < 40:\n",
    "        return 'group 4'\n",
    "    elif age < 45:\n",
    "        return 'group 5'\n",
    "    else:\n",
    "        return 'group 6'\n",
    "\n",
    "data['Age_Group'] = data['Age'].apply(age_group)\n",
    "\n",
    "tukey_result = pairwise_tukeyhsd(\n",
    "    endog = data['Clicked on Ad'],\n",
    "    groups = data['Age_Group'],\n",
    "    alpha = 0.05\n",
    ")\n",
    "\n",
    "result = tukey_result.summary()\n",
    "print(result)"
   ]
  },
  {
   "cell_type": "markdown",
   "id": "bab5d48b-3866-4720-8750-021885b40ce4",
   "metadata": {},
   "source": [
    "**group 1 과 group 3 의 reject가 False 이기 때문에 유의미한 차이가 없다. 하지만 다른 모든 것은 유의미한 차이가 있는것을 확인 할 수 있다**"
   ]
  },
  {
   "cell_type": "code",
   "execution_count": null,
   "id": "71bec2c7-96ae-4242-967a-41ee9cd47c2d",
   "metadata": {},
   "outputs": [],
   "source": []
  }
 ],
 "metadata": {
  "kernelspec": {
   "display_name": "Python 3 (ipykernel)",
   "language": "python",
   "name": "python3"
  },
  "language_info": {
   "codemirror_mode": {
    "name": "ipython",
    "version": 3
   },
   "file_extension": ".py",
   "mimetype": "text/x-python",
   "name": "python",
   "nbconvert_exporter": "python",
   "pygments_lexer": "ipython3",
   "version": "3.9.13"
  }
 },
 "nbformat": 4,
 "nbformat_minor": 5
}
