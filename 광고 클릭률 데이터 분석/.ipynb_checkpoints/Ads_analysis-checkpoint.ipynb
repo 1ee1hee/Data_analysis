{
 "cells": [
  {
   "cell_type": "markdown",
   "id": "9625f3dd-5ce4-4370-b84c-f5e744639649",
   "metadata": {},
   "source": [
    "# 광고 클릭율 데이터 분석"
   ]
  },
  {
   "cell_type": "markdown",
   "id": "ce667687-4266-4b64-abb4-94bc519207bc",
   "metadata": {},
   "source": [
    "## 데이터 불러오기\n",
    "- kaggle의 Click-Through Rate Prediction 데이터 사용"
   ]
  },
  {
   "cell_type": "code",
   "execution_count": 1,
   "id": "546c41c9-040d-440b-8059-9d4d0f6f704f",
   "metadata": {},
   "outputs": [
    {
     "name": "stdout",
     "output_type": "stream",
     "text": [
      "<class 'pandas.core.frame.DataFrame'>\n",
      "RangeIndex: 10000 entries, 0 to 9999\n",
      "Data columns (total 10 columns):\n",
      " #   Column                    Non-Null Count  Dtype  \n",
      "---  ------                    --------------  -----  \n",
      " 0   Daily Time Spent on Site  10000 non-null  float64\n",
      " 1   Age                       10000 non-null  float64\n",
      " 2   Area Income               10000 non-null  float64\n",
      " 3   Daily Internet Usage      10000 non-null  float64\n",
      " 4   Ad Topic Line             10000 non-null  object \n",
      " 5   City                      10000 non-null  object \n",
      " 6   Gender                    10000 non-null  object \n",
      " 7   Country                   10000 non-null  object \n",
      " 8   Timestamp                 10000 non-null  object \n",
      " 9   Clicked on Ad             10000 non-null  int64  \n",
      "dtypes: float64(4), int64(1), object(5)\n",
      "memory usage: 781.4+ KB\n",
      "None\n"
     ]
    }
   ],
   "source": [
    "import pandas as pd\n",
    "\n",
    "data = pd.read_csv('data/ads_data.csv')\n",
    "# print(data)\n",
    "print(data.info())"
   ]
  },
  {
   "cell_type": "markdown",
   "id": "aeee78da-0631-4ee6-8f35-88f2ea1c7c57",
   "metadata": {},
   "source": [
    "## 데이터 설명\n",
    "|컬럼|내용|\n",
    "|------------------------|------------------------------------|\n",
    "|Daily Time Spent on Site|사용자가 사이트에서 보낸 시간 (분)|\n",
    "|Age|사용자 나이|\n",
    "|Area Income|사용자가 살고 있는 지역의 평균 수입|\n",
    "|Daily Internet Usage|하루 인터넷 사용 시간 (분)|\n",
    "|Ad Topic Line|광고 제목|\n",
    "|City|사용자 거주 도시|\n",
    "|Gender|성별|\n",
    "|Country|사용자 국가|\n",
    "|Timestamp|광고 노출 시간|\n",
    "|Clicked on Ad|광고 클릭 여부 (0 : 클릭 안함, 1 : 클릭)|"
   ]
  },
  {
   "cell_type": "markdown",
   "id": "7a6463bf-4ae1-4486-bcb6-d9747a1d4296",
   "metadata": {},
   "source": [
    "## 데이터 정리\n",
    "- Timestamp를 datetime 형태로 변환"
   ]
  },
  {
   "cell_type": "code",
   "execution_count": 2,
   "id": "57d1c04c-7bc1-4828-9523-bc452cab699c",
   "metadata": {},
   "outputs": [],
   "source": [
    "data['Timestamp'] = pd.to_datetime(data['Timestamp'])"
   ]
  },
  {
   "cell_type": "code",
   "execution_count": 3,
   "id": "afabfa9e-a790-4149-a58a-c0f5e758c1a7",
   "metadata": {},
   "outputs": [
    {
     "name": "stdout",
     "output_type": "stream",
     "text": [
      "   Daily Time Spent on Site   Age  Area Income  Daily Internet Usage  \\\n",
      "0                     62.26  32.0     69481.85                172.83   \n",
      "1                     41.73  31.0     61840.26                207.17   \n",
      "2                     44.40  30.0     57877.15                172.83   \n",
      "3                     59.88  28.0     56180.93                207.17   \n",
      "4                     49.21  30.0     54324.73                201.58   \n",
      "\n",
      "                         Ad Topic Line             City  Gender  \\\n",
      "0      Decentralized real-time circuit         Lisafort    Male   \n",
      "1       Optional full-range projection  West Angelabury    Male   \n",
      "2  Total 5thgeneration standardization        Reyesfurt  Female   \n",
      "3          Balanced empowering success      New Michael  Female   \n",
      "4  Total 5thgeneration standardization     West Richard  Female   \n",
      "\n",
      "                        Country           Timestamp  Clicked on Ad  \n",
      "0  Svalbard & Jan Mayen Islands 2016-06-09 21:43:05              0  \n",
      "1                     Singapore 2016-01-16 17:56:05              0  \n",
      "2                    Guadeloupe 2016-06-29 10:50:45              0  \n",
      "3                        Zambia 2016-06-21 14:32:32              0  \n",
      "4                         Qatar 2016-07-21 10:54:35              1  \n"
     ]
    }
   ],
   "source": [
    "print(data.head())"
   ]
  },
  {
   "cell_type": "markdown",
   "id": "103518ef-4978-414d-9daa-b31315e999ae",
   "metadata": {},
   "source": [
    "## A/B Test"
   ]
  },
  {
   "cell_type": "markdown",
   "id": "48b0310c-cb9c-402f-8cf7-b356b807ed5e",
   "metadata": {},
   "source": [
    "### 1. 성별에 따른 광고 클릭률\n",
    "- A 그룹 : 남성 사용자\n",
    "- B 그룹 : 여성 사용자\n",
    "- 비교 지표 : 광고 클릭률(Clicked on Ad)"
   ]
  },
  {
   "cell_type": "markdown",
   "id": "e0fd2ec8-aa72-4f19-a739-c488688c39e5",
   "metadata": {},
   "source": [
    "**가설**\n",
    "- 귀무가설 : 성별에 따라 광고 클릭률에 차이가 없다\n",
    "- 대립가설 : 성별에 따라 광고 클릭률에 차이가 있다\n",
    "\n",
    "**가설 설정 이유**\n",
    "- 성별이 광고 클릭에 영향을 미치는지 확인"
   ]
  },
  {
   "cell_type": "code",
   "execution_count": 4,
   "id": "eeeeddb4-5557-46b5-8ea8-b261e4004770",
   "metadata": {},
   "outputs": [
    {
     "name": "stdout",
     "output_type": "stream",
     "text": [
      "Male Click Rate: 0.46\n",
      "Female Click Rate: 0.51\n",
      "T-statistic: -4.97, P-value: 0.0000\n",
      "성별에 따른 클릭률에 통계적으로 유의미한 차이가 있습니다.\n",
      "대립가설 : 성별에 따라 광고 클릭률에 차이가 있습니다.\n"
     ]
    }
   ],
   "source": [
    "male = data[data['Gender'] == 'Male']\n",
    "female = data[data['Gender'] == 'Female']\n",
    "\n",
    "male_click_rate = male['Clicked on Ad'].mean()\n",
    "female_click_rate = female['Clicked on Ad'].mean()\n",
    "# print(male_click_rate, female_click_rate)\n",
    "\n",
    "# t-test 수행 (두 그룹의 클릭률 차이 검정)\n",
    "from scipy.stats import ttest_ind\n",
    "ttest, p_value = ttest_ind(male['Clicked on Ad'], female['Clicked on Ad'])\n",
    "print(f\"Male Click Rate: {male_click_rate:.2f}\")\n",
    "print(f\"Female Click Rate: {female_click_rate:.2f}\")\n",
    "print(f\"T-statistic: {ttest:.2f}, P-value: {p_value:.4f}\")\n",
    "\n",
    "# p_value 가설 해설\n",
    "if p_value < 0.05:\n",
    "    print('성별에 따른 클릭률에 통계적으로 유의미한 차이가 있습니다.')\n",
    "    print('대립가설 : 성별에 따라 광고 클릭률에 차이가 있습니다.')\n",
    "else:\n",
    "    print('성별에 따른 클릭률에 통계적으로 유의미한 차이가 없습니다.')\n",
    "    print('귀무가설 : 성별에 따라 광고 클릭률에 차이가 없습니다.')"
   ]
  },
  {
   "cell_type": "markdown",
   "id": "c548f3f8-726e-4a49-b271-b277b249344b",
   "metadata": {},
   "source": [
    "#### Cohen's d값 확인"
   ]
  },
  {
   "cell_type": "code",
   "execution_count": 5,
   "id": "f28cf520-825d-4012-b6ab-8a674f5a8edd",
   "metadata": {},
   "outputs": [
    {
     "name": "stdout",
     "output_type": "stream",
     "text": [
      "Cohen's d: 0.10\n"
     ]
    }
   ],
   "source": [
    "import numpy as np\n",
    "\n",
    "mean_diff = np.abs(male_click_rate - female_click_rate)\n",
    "std = np.sqrt(((male['Clicked on Ad'].std() ** 2) + (female['Clicked on Ad'].std() ** 2)) / 2)\n",
    "cohen_d = mean_diff / std\n",
    "\n",
    "print(f\"Cohen's d: {cohen_d:.2f}\")"
   ]
  },
  {
   "cell_type": "markdown",
   "id": "6442be80-3e80-462b-8dc7-a779a5a72091",
   "metadata": {},
   "source": [
    "**통계적으로는 유의미하나, 효과 크기는 0.1로 매우 작다. 따라서 전략에 큰 영향을 미칠 가능성이 매우 적다**"
   ]
  },
  {
   "cell_type": "markdown",
   "id": "66260481-6e1f-4c71-b4db-f6524e78d7ef",
   "metadata": {},
   "source": [
    "### 2. 연령별 광고 클릭률"
   ]
  },
  {
   "cell_type": "markdown",
   "id": "2bcf8d08-eaad-4e0f-93e7-f3bc9c407ac5",
   "metadata": {},
   "source": [
    "**가설**\n",
    "- 귀무가설 : 연령대별 클릭률 차이 없다\n",
    "- 대립가설 : 연령대별 클릭률 차이 있다 "
   ]
  },
  {
   "cell_type": "code",
   "execution_count": 6,
   "id": "f7280eac-2bd6-4f8f-85e7-61c927028163",
   "metadata": {},
   "outputs": [
    {
     "name": "stdout",
     "output_type": "stream",
     "text": [
      "stats: 578.1662\n",
      "pvalue: 0.0000\n",
      "귀무가설 기각 -> 연령대별로 클릭률 차이 있다\n"
     ]
    }
   ],
   "source": [
    "from scipy import stats\n",
    "\n",
    "g1 = data[(data['Age'] < 25)]['Clicked on Ad']\n",
    "g2 = data[(data['Age'] >= 25) & (data['Age'] < 30)]['Clicked on Ad']\n",
    "g3 = data[(data['Age'] >= 30) & (data['Age'] < 35)]['Clicked on Ad']\n",
    "g4 = data[(data['Age'] >= 35) & (data['Age'] < 40)]['Clicked on Ad']\n",
    "g5 = data[(data['Age'] >= 40) & (data['Age'] < 45)]['Clicked on Ad']\n",
    "g6 = data[(data['Age'] >= 45)]['Clicked on Ad']\n",
    "\n",
    "f_stat, p_value = stats.f_oneway(g1, g2, g3, g4, g5, g6)\n",
    "\n",
    "print(f'stats: {f_stat:.4f}')\n",
    "print(f'pvalue: {p_value:.4f}')\n",
    "\n",
    "if p_value < 0.05:\n",
    "    print('귀무가설 기각 -> 연령대별로 클릭률 차이 있다')\n",
    "else:\n",
    "    print('귀무가설 채택 -> 연령대별 클릭률 차이 없다')\n"
   ]
  },
  {
   "cell_type": "markdown",
   "id": "9b5df8cc-a7cd-40f0-8488-ef9ce5465ae2",
   "metadata": {},
   "source": [
    "### Tukey's HSD (사후 검정)"
   ]
  },
  {
   "cell_type": "code",
   "execution_count": 7,
   "id": "0931b02a-2185-40d6-9124-abfa7f33a374",
   "metadata": {},
   "outputs": [
    {
     "name": "stdout",
     "output_type": "stream",
     "text": [
      " Multiple Comparison of Means - Tukey HSD, FWER=0.05  \n",
      "======================================================\n",
      " group1  group2 meandiff p-adj   lower   upper  reject\n",
      "------------------------------------------------------\n",
      "group 1 group 2  -0.0599 0.0151 -0.1126 -0.0073   True\n",
      "group 1 group 3   0.0233 0.7975 -0.0287  0.0753  False\n",
      "group 1 group 4    0.168    0.0  0.1162  0.2197   True\n",
      "group 1 group 5   0.4508    0.0  0.3961  0.5055   True\n",
      "group 1 group 6   0.5703    0.0  0.5174  0.6231   True\n",
      "group 2 group 3   0.0832    0.0  0.0427  0.1238   True\n",
      "group 2 group 4   0.2279    0.0  0.1876  0.2681   True\n",
      "group 2 group 5   0.5108    0.0  0.4668  0.5548   True\n",
      "group 2 group 6   0.6302    0.0  0.5886  0.6718   True\n",
      "group 3 group 4   0.1446    0.0  0.1053   0.184   True\n",
      "group 3 group 5   0.4275    0.0  0.3844  0.4707   True\n",
      "group 3 group 6    0.547    0.0  0.5062  0.5877   True\n",
      "group 4 group 5   0.2829    0.0    0.24  0.3257   True\n",
      "group 4 group 6   0.4023    0.0  0.3619  0.4427   True\n",
      "group 5 group 6   0.1195    0.0  0.0753  0.1636   True\n",
      "------------------------------------------------------\n"
     ]
    }
   ],
   "source": [
    "from statsmodels.stats.multicomp import pairwise_tukeyhsd\n",
    "\n",
    "def age_group(age):\n",
    "    if age < 25:\n",
    "        return 'group 1'\n",
    "    elif age < 30:\n",
    "        return 'group 2'\n",
    "    elif age < 35:\n",
    "        return 'group 3'\n",
    "    elif age < 40:\n",
    "        return 'group 4'\n",
    "    elif age < 45:\n",
    "        return 'group 5'\n",
    "    else:\n",
    "        return 'group 6'\n",
    "\n",
    "data['Age_Group'] = data['Age'].apply(age_group)\n",
    "\n",
    "tukey_result = pairwise_tukeyhsd(\n",
    "    endog = data['Clicked on Ad'],\n",
    "    groups = data['Age_Group'],\n",
    "    alpha = 0.05\n",
    ")\n",
    "\n",
    "result = tukey_result.summary()\n",
    "print(result)"
   ]
  },
  {
   "cell_type": "markdown",
   "id": "bab5d48b-3866-4720-8750-021885b40ce4",
   "metadata": {},
   "source": [
    "**group 1 과 group 3 의 reject가 False 이기 때문에 유의미한 차이가 없다. 하지만 다른 모든 것은 유의미한 차이가 있는것을 확인 할 수 있다**"
   ]
  },
  {
   "cell_type": "markdown",
   "id": "f2c25d0e-b8f1-4116-9ad8-c7154e9a81bf",
   "metadata": {},
   "source": [
    "### 결과 시각화"
   ]
  },
  {
   "cell_type": "code",
   "execution_count": 8,
   "id": "54a8289c-ca83-4ef3-a930-86e62e5e7ab5",
   "metadata": {},
   "outputs": [
    {
     "data": {
      "image/png": "[encoded data removed]",
      "text/plain": [
       "<Figure size 1000x600 with 1 Axes>"
      ]
     },
     "metadata": {},
     "output_type": "display_data"
    }
   ],
   "source": [
    "import matplotlib.pyplot as plt\n",
    "import pandas as pd\n",
    "\n",
    "plt.rc('font', family='Malgun Gothic')\n",
    "\n",
    "t_r = {\n",
    "    'group1' : ['group1', 'group1', 'group1', 'group1', 'group1', 'group2', 'group2', 'group2', 'group2', 'group3', 'group3', 'group3', 'group4', 'group4', 'group5'],\n",
    "    'group2' : ['group2', 'group3', 'group4', 'group5', 'group6', 'group3', 'group4', 'group5', 'group6', 'group4', 'group5', 'group6', 'group5', 'group6', 'group6'],\n",
    "    'meandiff' : [-0.0599, 0.0233, 0.168, 0.4508, 0.5703, 0.0832, 0.2279, 0.5108, 0.6302, 0.1446, 0.4275, 0.547, 0.2829, 0.4023, 0.1195],\n",
    "    'p_adj' : [0.0151, 0.7975, 0.0, 0.0, 0.0, 0.0, 0.0, 0.0, 0.0, 0.0, 0.0, 0.0, 0.0, 0.0, 0.0],\n",
    "    'reject' : [True, False, True, True, True, True, True, True, True, True, True, True, True, True, True]\n",
    "}\n",
    "\n",
    "df_tukey = pd.DataFrame(t_r)\n",
    "\n",
    "colors = ['red' if reject else 'green' for reject in df_tukey['reject']]\n",
    "\n",
    "plt.figure(figsize=(10, 6))\n",
    "\n",
    "plt.barh(df_tukey['group1'] + 'vs' + df_tukey['group2'], df_tukey['meandiff'], color = colors)\n",
    "\n",
    "plt.axvline(x = 0, color = 'black', linestyle = '--')\n",
    "plt.title('Tukey HSD : 그룹별 meandiff')\n",
    "plt.xlabel('meandiff')\n",
    "plt.ylabel('그룹')\n",
    "plt.grid(True)\n",
    "plt.show()"
   ]
  },
  {
   "cell_type": "markdown",
   "id": "40f01868-ce91-4439-8b6d-2f845fbcca18",
   "metadata": {},
   "source": [
    "### 3. 인터넷 사용 시간에 따른 광고 클릭률\n",
    "**가설**\n",
    "- 귀무가설 : 인터넷 사용 시간이 다른 그룹 간 광고 클릭률 차이가 없다.\n",
    "- 대립가설 : 인터넷 사용 시간이 다른 그룹 간 광고 클릭률 차이가 있다."
   ]
  },
  {
   "cell_type": "markdown",
   "id": "ec0e0921-c25a-4a16-8c6c-55a182cdb8ca",
   "metadata": {},
   "source": [
    "**그룹**\n",
    "- A : 하루 인터넷 사용 시간이 적은 그룹 (평균 이하)\n",
    "- B : 하루 인터넷 사용 시간이 많은 그룹 (평균 초과)"
   ]
  },
  {
   "cell_type": "code",
   "execution_count": 22,
   "id": "cea54c77-5a47-403a-80d7-2778f543c183",
   "metadata": {},
   "outputs": [
    {
     "name": "stdout",
     "output_type": "stream",
     "text": [
      "4858 5142\n",
      "Shapiro A pvalue:  0.0\n",
      "Shapiro B pvalue:  0.0\n",
      "Levene pvalue:  0.1967\n"
     ]
    }
   ],
   "source": [
    "from scipy import stats\n",
    "\n",
    "avg_usage = data['Daily Internet Usage'].mean()\n",
    "group_a = data[data['Daily Internet Usage'] <= avg_usage]['Clicked on Ad']\n",
    "group_b = data[data['Daily Internet Usage'] > avg_usage]['Clicked on Ad']\n",
    "\n",
    "print(group_a.shape[0], group_b.shape[0])\n",
    "\n",
    "# 정규성 검정\n",
    "print('Shapiro A pvalue: ', round(stats.shapiro(group_a).pvalue, 4))\n",
    "print('Shapiro B pvalue: ', round(stats.shapiro(group_b).pvalue, 4))\n",
    "\n",
    "# 등분산 검정\n",
    "print('Levene pvalue: ', round(stats.levene(group_a, group_b).pvalue, 4))"
   ]
  },
  {
   "cell_type": "markdown",
   "id": "84acffb1-a5c9-4b90-9f90-ff1c306f495a",
   "metadata": {},
   "source": [
    "**정규성 검정 결과 정규성을 가정할 수 없고 등분산 검정 결과 등분산성이 확보됨. 샘플수가 4858, 5142개로 샘플 수가 크므로 중심극한정리에 의해 t-test 진행**"
   ]
  },
  {
   "cell_type": "code",
   "execution_count": 24,
   "id": "44fdfaf7-9b4c-4b9d-a3aa-4baf3a581c14",
   "metadata": {},
   "outputs": [
    {
     "name": "stdout",
     "output_type": "stream",
     "text": [
      "t_statistic:  13.5001\n",
      "p_value:  0.0\n",
      "귀무가설 기각 -> 인터넷 사용 시간에 따라 클릭률에 유의미한 차이 있음\n"
     ]
    }
   ],
   "source": [
    "t_stat, pvalue = stats.ttest_ind(group_a, group_b, equal_var = True)\n",
    "print('t_statistic: ', round(t_stat, 4))\n",
    "print('p_value: ', round(pvalue, 4))\n",
    "\n",
    "if p_value < 0.05:\n",
    "    print('귀무가설 기각 -> 인터넷 사용 시간에 따라 클릭률에 유의미한 차이 있음')\n",
    "else:\n",
    "    print('귀무가설 채택 -> 클릭률 차이 없음')"
   ]
  },
  {
   "cell_type": "code",
   "execution_count": 25,
   "id": "030585bb-ce7a-4fec-b207-37c0149418f2",
   "metadata": {},
   "outputs": [
    {
     "name": "stdout",
     "output_type": "stream",
     "text": [
      "Cohen's d:  0.27\n"
     ]
    }
   ],
   "source": [
    "import numpy as np\n",
    "\n",
    "cohen_d = np.abs(group_a.mean() - group_b.mean()) / np.sqrt((group_a.std() ** 2 + group_b.std() ** 2) / 2)\n",
    "print(\"Cohen's d: \", round(cohen_d, 2))"
   ]
  },
  {
   "cell_type": "markdown",
   "id": "434ae35b-2d0a-46b4-98e0-192f655290e0",
   "metadata": {},
   "source": [
    "**통계적으로는 유의미하나, 효과 크기는 0.27로 매우 작다. 따라서 전략에 큰 영향을 미칠 가능성이 매우 적다**"
   ]
  },
  {
   "cell_type": "markdown",
   "id": "71a269a5-63cf-4f04-be1c-80ce5861a839",
   "metadata": {},
   "source": [
    "### 결과 시각화"
   ]
  },
  {
   "cell_type": "code",
   "execution_count": 29,
   "id": "4e55f888-99c4-4c53-992c-0ed005c98601",
   "metadata": {},
   "outputs": [
    {
     "data": {
      "image/png": "[encoded data removed]",
      "text/plain": [
       "<Figure size 640x480 with 1 Axes>"
      ]
     },
     "metadata": {},
     "output_type": "display_data"
    }
   ],
   "source": [
    "import seaborn as sns\n",
    "import matplotlib.pyplot as plt\n",
    "\n",
    "df = data.copy()\n",
    "df['Usage Group'] = np.where(df['Daily Internet Usage'] <= avg_usage, 'Low Usage', 'High Usage')\n",
    "\n",
    "sns.barplot(x = 'Usage Group', y = 'Clicked on Ad', data = df, errorbar=('ci', 95))\n",
    "plt.title(\"광고 클릭률 vs 인터넷 사용 시간 그룹\")\n",
    "plt.ylabel(\"평균 클릭률\")\n",
    "plt.show()"
   ]
  },
  {
   "cell_type": "markdown",
   "id": "2433e7b6-f3d9-40ec-8913-61ef0ec9f96a",
   "metadata": {},
   "source": [
    "### 4. 시간에 따른 광고 클릭률 분석\n",
    "- 새벽, 아침, 낮, 저녁, 밤\n",
    "- 평일, 주말"
   ]
  },
  {
   "cell_type": "markdown",
   "id": "f35affe6-1485-48a1-9fa8-3357e394c8ff",
   "metadata": {},
   "source": [
    "#### 시간대 별 광고 클릭률"
   ]
  },
  {
   "cell_type": "code",
   "execution_count": 40,
   "id": "5050631e-1ebb-482b-b255-48e9c6a1270c",
   "metadata": {},
   "outputs": [],
   "source": [
    "# 시간대 분류 함수\n",
    "def time(hour):\n",
    "    if 0 <= hour < 5:\n",
    "        return '새벽'\n",
    "    elif 5 <= hour < 9:\n",
    "        return '아침'\n",
    "    elif 9 <= hour < 18:\n",
    "        return '낮'\n",
    "    elif 18 <= hour < 21:\n",
    "        return '저녁'\n",
    "    else:\n",
    "        return '밤'\n",
    "\n",
    "data['시간대'] = data['Timestamp'].dt.hour.apply(time)\n",
    "\n",
    "data['평일/주말'] = data['Timestamp'].dt.dayofweek.apply(lambda x: '주말' if x >= 5 else '평일')\n",
    "\n",
    "# print(data.head())"
   ]
  },
  {
   "cell_type": "markdown",
   "id": "6facdd0a-f7b6-4c69-9cac-a2e8312df00e",
   "metadata": {},
   "source": [
    "**가설**\n",
    "- 귀무가설 : 시간대별 광고 클릭률 차이가 없음\n",
    "- 대립가설 : 시간대별 광고 클릭률 차이가 있음"
   ]
  },
  {
   "cell_type": "code",
   "execution_count": 39,
   "id": "c335860d-ba6d-498f-bde4-51045883deb5",
   "metadata": {},
   "outputs": [
    {
     "name": "stdout",
     "output_type": "stream",
     "text": [
      "statistic:  56.7107\n",
      "p_value:  0.0\n",
      "귀무가설 기각 -> 시간대별 광고 클릭률에 차이가 있음\n"
     ]
    }
   ],
   "source": [
    "from scipy import stats\n",
    "\n",
    "dawn = data[data['시간대'] == '새벽']['Clicked on Ad']\n",
    "morning = data[data['시간대'] == '아침']['Clicked on Ad']\n",
    "noon = data[data['시간대'] == '낮']['Clicked on Ad']\n",
    "evening = data[data['시간대'] == '저녁']['Clicked on Ad']\n",
    "night = data[data['시간대'] == '밤']['Clicked on Ad']\n",
    "\n",
    "f_stat, p_value = stats.f_oneway(dawn, morning, noon, evening, night)\n",
    "\n",
    "print('statistic: ', round(f_stat, 4))\n",
    "print('p_value: ', round(p_value, 4))\n",
    "\n",
    "if p_value < 0.05:\n",
    "    print('귀무가설 기각 -> 시간대별 광고 클릭률에 차이가 있음')\n",
    "else:\n",
    "    print('귀무가설 채택 -> 시간대별 광고 클릭률에 차이가 없음')"
   ]
  },
  {
   "cell_type": "markdown",
   "id": "0472c950-6896-4266-9832-419b61abb747",
   "metadata": {},
   "source": [
    "#### Tukey HSD 사후 검정"
   ]
  },
  {
   "cell_type": "code",
   "execution_count": 42,
   "id": "c86defa6-9675-4c59-aeda-bc9793a7071f",
   "metadata": {},
   "outputs": [
    {
     "name": "stdout",
     "output_type": "stream",
     "text": [
      "Multiple Comparison of Means - Tukey HSD, FWER=0.05 \n",
      "====================================================\n",
      "group1 group2 meandiff p-adj   lower   upper  reject\n",
      "----------------------------------------------------\n",
      "     낮      밤     0.03 0.2413 -0.0099    0.07  False\n",
      "     낮     새벽  -0.1773    0.0 -0.2146   -0.14   True\n",
      "     낮     아침  -0.0777    0.0 -0.1216 -0.0338   True\n",
      "     낮     저녁  -0.0072 0.9908 -0.0499  0.0355  False\n",
      "     밤     새벽  -0.2074    0.0 -0.2521 -0.1627   True\n",
      "     밤     아침  -0.1077    0.0 -0.1581 -0.0574   True\n",
      "     밤     저녁  -0.0372 0.2376 -0.0866  0.0121  False\n",
      "    새벽     아침   0.0996    0.0  0.0513  0.1479   True\n",
      "    새벽     저녁   0.1701    0.0  0.1229  0.2173   True\n",
      "    아침     저녁   0.0705 0.0024  0.0179  0.1231   True\n",
      "----------------------------------------------------\n"
     ]
    }
   ],
   "source": [
    "from statsmodels.stats.multicomp import pairwise_tukeyhsd\n",
    "\n",
    "tukey_data = data[['시간대', 'Clicked on Ad']]\n",
    "\n",
    "tukey_result = pairwise_tukeyhsd(\n",
    "    endog = tukey_data['Clicked on Ad'],\n",
    "    groups = tukey_data['시간대'],\n",
    "    alpha = 0.05\n",
    ")\n",
    "\n",
    "print(tukey_result)"
   ]
  },
  {
   "cell_type": "markdown",
   "id": "dd9d5eb9-8c37-49eb-bc8a-46d644b89c10",
   "metadata": {},
   "source": [
    "**(낮, 밤), (낮, 저녁), (밤, 저녁)의 reject가 False 이기 때문에 유의미한 차이가 없다. 하지만 다른 모든 것은 유의미한 차이가 있는것을 확인 할 수 있다.**"
   ]
  },
  {
   "cell_type": "markdown",
   "id": "453bad59-ced6-4e25-aa6c-db95c7be9621",
   "metadata": {},
   "source": [
    "#### 시각화"
   ]
  },
  {
   "cell_type": "code",
   "execution_count": 49,
   "id": "f58ededf-0af1-4d18-a5bc-9edc245b27ca",
   "metadata": {},
   "outputs": [
    {
     "data": {
      "image/png": "[encoded data removed]",
      "text/plain": [
       "<Figure size 1000x600 with 1 Axes>"
      ]
     },
     "metadata": {},
     "output_type": "display_data"
    }
   ],
   "source": [
    "import matplotlib.pyplot as plt\n",
    "\n",
    "tukey_result.plot_simultaneous()\n",
    "plt.title(\"Tukey HSD - 시간대 vs Ad Click\")\n",
    "plt.xlabel(\"Mean difference in Ad Clicks\")\n",
    "plt.grid(True)\n",
    "plt.show()"
   ]
  },
  {
   "cell_type": "code",
   "execution_count": 50,
   "id": "7d6cdc08-b40c-4775-9e88-3c08a9915c97",
   "metadata": {},
   "outputs": [
    {
     "data": {
      "image/png": "[encoded data removed]",
      "text/plain": [
       "<Figure size 1000x600 with 1 Axes>"
      ]
     },
     "metadata": {},
     "output_type": "display_data"
    }
   ],
   "source": [
    "import matplotlib\n",
    "\n",
    "plt.rc('font', family='Malgun Gothic')\n",
    "matplotlib.rcParams['axes.unicode_minus'] = False\n",
    "\n",
    "t_r = {\n",
    "    'group1' : ['낮', '낮', '낮', '낮', '밤', '밤', '밤', '새벽', '새벽', '아침'],\n",
    "    'group2' : ['밤', '새벽', '아침', '저녁', '새벽', '아침', '저녁', '아침', '저녁', '저녁'],\n",
    "    'meandiff' : [0.03, -0.1773, -0.0777, -0.0072, -0.2074, -0.1077, -0.0372, 0.0996, 0.1701, 0.0705],\n",
    "    'p_adj' : [0.2413, 0.0, 0.0, 0.9908, 0.0, 0.0, 0.2376, 0.0, 0.0, 0.0024],\n",
    "    'reject' : [False, True, True, False, True, True, False, True, True, True]\n",
    "}\n",
    "\n",
    "df_tukey = pd.DataFrame(t_r)\n",
    "\n",
    "colors = ['red' if reject else 'green' for reject in df_tukey['reject']]\n",
    "\n",
    "plt.figure(figsize=(10, 6))\n",
    "\n",
    "plt.barh(df_tukey['group1'] + 'vs' + df_tukey['group2'], df_tukey['meandiff'], color = colors)\n",
    "\n",
    "plt.axvline(x = 0, color = 'black', linestyle = '--')\n",
    "plt.title('Tukey HSD : 그룹별 meandiff')\n",
    "plt.xlabel('meandiff')\n",
    "plt.ylabel('그룹')\n",
    "plt.grid(True)\n",
    "plt.show()"
   ]
  },
  {
   "cell_type": "markdown",
   "id": "79472572-cda7-4682-b7fd-cabc00c415a2",
   "metadata": {},
   "source": [
    "#### 평일/주말에 따른 광고 클릭률 분석"
   ]
  },
  {
   "cell_type": "code",
   "execution_count": 58,
   "id": "fb261cf2-860c-4af9-96d8-117292538458",
   "metadata": {},
   "outputs": [
    {
     "name": "stdout",
     "output_type": "stream",
     "text": [
      "7110 2890\n",
      "shapiro_weekday:  0.0\n",
      "shapiro_weekend:  0.0\n",
      "levene:  0.8951\n",
      "stats:  -0.1318\n",
      "p_value:  0.8951\n",
      "귀무가설 채택 -> 평일과 주말의 광고 클릭률은 차이가 없다\n"
     ]
    }
   ],
   "source": [
    "weekday = data[data['평일/주말'] == '평일']['Clicked on Ad']\n",
    "weekend = data[data['평일/주말'] == '주말']['Clicked on Ad']\n",
    "\n",
    "print(weekday.shape[0], weekend.shape[0])\n",
    "\n",
    "# 정규성 검정\n",
    "print('shapiro_weekday: ', round(stats.shapiro(weekday).pvalue, 4))\n",
    "print('shapiro_weekend: ', round(stats.shapiro(weekend).pvalue, 4))\n",
    "\n",
    "# 등분산 검정\n",
    "print('levene: ', round(stats.levene(weekday, weekend).pvalue, 4))\n",
    "\n",
    "t_stat, p_value = stats.ttest_ind(weekday, weekend, equal_var = True)\n",
    "\n",
    "print('stats: ', round(t_stat, 4))\n",
    "print('p_value: ', round(p_value, 4))\n",
    "\n",
    "if p_value < 0.05:\n",
    "    print('귀무가설 기각 -> 평일과 주말의 광고 클릭률은 차이가 있다')\n",
    "else:\n",
    "    print('귀무가설 채택 -> 평일과 주말의 광고 클릭률은 차이가 없다')"
   ]
  },
  {
   "cell_type": "markdown",
   "id": "1f55ef12-5b9e-4a48-b97a-0df3dce930d1",
   "metadata": {},
   "source": [
    "### 5. 소득에 따른 광고 반응 차이\n",
    "- 고소득군, 저소득군 클릭률 비교\n",
    "- Area Incom 기준 상하위 50%나누어 A/B 테스트 진행"
   ]
  },
  {
   "cell_type": "code",
   "execution_count": 62,
   "id": "fcb7da44-209c-4679-92a3-c2f413396b35",
   "metadata": {},
   "outputs": [
    {
     "name": "stdout",
     "output_type": "stream",
     "text": [
      "79332.33 13996.5 56180.93\n"
     ]
    }
   ],
   "source": [
    "# 중앙값 기준으로 나누기\n",
    "median_income = data['Area Income'].median()\n",
    "print(data['Area Income'].max(), data['Area Income'].min(), median_income)\n",
    "\n",
    "low_income = data[data['Area Income'] < median_income]\n",
    "high_income = data[data['Area Income'] >= median_income]"
   ]
  },
  {
   "cell_type": "code",
   "execution_count": 63,
   "id": "08414ab1-36da-4020-8ba9-debbe68147e5",
   "metadata": {},
   "outputs": [
    {
     "name": "stdout",
     "output_type": "stream",
     "text": [
      "z_stat:  4.8082\n",
      "p_value:  0.0\n",
      "귀무가설 기각 -> 소득 구간에 따라 클릭률 차이 있음\n"
     ]
    }
   ],
   "source": [
    "import statsmodels.api as sm\n",
    "\n",
    "clicks = [low_income['Clicked on Ad'].sum(), high_income['Clicked on Ad'].sum()]\n",
    "n = [low_income.shape[0], high_income.shape[0]]\n",
    "\n",
    "# 이항 비율 검정\n",
    "z_stat, p_value = sm.stats.proportions_ztest(clicks, n)\n",
    "print('z_stat: ', round(z_stat, 4))\n",
    "print('p_value: ', round(p_value, 4))\n",
    "\n",
    "if p_value < 0.05:\n",
    "    print('귀무가설 기각 -> 소득 구간에 따라 클릭률 차이 있음')\n",
    "else:\n",
    "    print('귀무가설 채택 -> 소득 구간에 따른 클릭률 차이 없음')"
   ]
  },
  {
   "cell_type": "markdown",
   "id": "f4951d67-9d96-4bb9-a2f4-d204b16c16bb",
   "metadata": {},
   "source": [
    "#### 시각화"
   ]
  },
  {
   "cell_type": "code",
   "execution_count": 64,
   "id": "30cb564c-f866-45b5-bc7f-ade525f9e968",
   "metadata": {},
   "outputs": [
    {
     "data": {
      "image/png": "[encoded data removed]",
      "text/plain": [
       "<Figure size 640x480 with 1 Axes>"
      ]
     },
     "metadata": {},
     "output_type": "display_data"
    }
   ],
   "source": [
    "import seaborn as sns\n",
    "import matplotlib.pyplot as plt\n",
    "\n",
    "data['수입 그룹'] = ['저소득' if i < median_income else '고소득' for i in data['Area Income']]\n",
    "\n",
    "click_rate = data.groupby('수입 그룹')['Clicked on Ad'].mean().reset_index()\n",
    "\n",
    "sns.barplot(data = click_rate, x = '수입 그룹', y = 'Clicked on Ad')\n",
    "plt.title('소득 그룹별 광고 클릭률')\n",
    "plt.ylabel('클릭률')\n",
    "plt.xlabel('소득 그룹')\n",
    "plt.ylim(0, 1)\n",
    "plt.grid(axis = 'y')\n",
    "plt.show()"
   ]
  },
  {
   "cell_type": "markdown",
   "id": "57a0f2b2-6a35-4388-bcb7-3c2d54cabe13",
   "metadata": {},
   "source": [
    "#### Cohen's h 계산"
   ]
  },
  {
   "cell_type": "code",
   "execution_count": 65,
   "id": "3b0fa9b2-518f-46f5-ba26-634298cf45d8",
   "metadata": {},
   "outputs": [
    {
     "name": "stdout",
     "output_type": "stream",
     "text": [
      "cohen's h:  0.0962\n"
     ]
    }
   ],
   "source": [
    "p1 = low_income['Clicked on Ad'].mean()\n",
    "p2 = high_income['Clicked on Ad'].mean()\n",
    "\n",
    "cohen_h = 2 * (np.arcsin(np.sqrt(p1)) - np.arcsin(np.sqrt(p2)))\n",
    "print(\"cohen's h: \", round(cohen_h, 4))"
   ]
  },
  {
   "cell_type": "markdown",
   "id": "70f66962-16fc-45fb-9432-07b154fba86c",
   "metadata": {},
   "source": [
    "**효과 아주 작음**"
   ]
  },
  {
   "cell_type": "markdown",
   "id": "42237cac-5c30-4257-a190-2cbf478c08d9",
   "metadata": {},
   "source": [
    "### 6. 클릭 예측 모델 만들기"
   ]
  },
  {
   "cell_type": "code",
   "execution_count": 66,
   "id": "d089d016-8222-456c-9662-b9e1b9bc33c3",
   "metadata": {},
   "outputs": [
    {
     "name": "stdout",
     "output_type": "stream",
     "text": [
      "      Daily Time Spent on Site   Age  Area Income  Daily Internet Usage  \\\n",
      "0                        62.26  32.0     69481.85                172.83   \n",
      "1                        41.73  31.0     61840.26                207.17   \n",
      "2                        44.40  30.0     57877.15                172.83   \n",
      "3                        59.88  28.0     56180.93                207.17   \n",
      "4                        49.21  30.0     54324.73                201.58   \n",
      "...                        ...   ...          ...                   ...   \n",
      "9995                     41.73  31.0     61840.26                207.17   \n",
      "9996                     41.73  28.0     51501.38                120.49   \n",
      "9997                     55.60  39.0     38067.08                124.44   \n",
      "9998                     46.61  50.0     43974.49                123.13   \n",
      "9999                     46.61  43.0     60575.99                198.45   \n",
      "\n",
      "                               Ad Topic Line             City  Gender  \\\n",
      "0            Decentralized real-time circuit         Lisafort    Male   \n",
      "1             Optional full-range projection  West Angelabury    Male   \n",
      "2        Total 5thgeneration standardization        Reyesfurt  Female   \n",
      "3                Balanced empowering success      New Michael  Female   \n",
      "4        Total 5thgeneration standardization     West Richard  Female   \n",
      "...                                      ...              ...     ...   \n",
      "9995          Profound executive flexibility  West Angelabury    Male   \n",
      "9996          Managed zero tolerance concept      Kennedyfurt    Male   \n",
      "9997          Intuitive exuding service-desk      North Randy  Female   \n",
      "9998        Realigned content-based leverage   North Samantha  Female   \n",
      "9999  Optimized upward-trending productivity     Port Jeffrey    Male   \n",
      "\n",
      "                           Country           Timestamp  Clicked on Ad  \\\n",
      "0     Svalbard & Jan Mayen Islands 2016-06-09 21:43:05              0   \n",
      "1                        Singapore 2016-01-16 17:56:05              0   \n",
      "2                       Guadeloupe 2016-06-29 10:50:45              0   \n",
      "3                           Zambia 2016-06-21 14:32:32              0   \n",
      "4                            Qatar 2016-07-21 10:54:35              1   \n",
      "...                            ...                 ...            ...   \n",
      "9995                     Singapore 2016-01-03 03:22:15              1   \n",
      "9996                    Luxembourg 2016-05-28 12:20:15              0   \n",
      "9997                         Egypt 2016-01-05 11:53:17              0   \n",
      "9998                        Malawi 2016-04-04 07:07:46              1   \n",
      "9999      Northern Mariana Islands 2016-04-03 21:13:46              1   \n",
      "\n",
      "     Age_Group 시간대 평일/주말 수입 그룹  \n",
      "0      group 3   밤    평일   고소득  \n",
      "1      group 3   낮    주말   고소득  \n",
      "2      group 3   낮    평일   고소득  \n",
      "3      group 2   낮    평일   고소득  \n",
      "4      group 3   낮    평일   저소득  \n",
      "...        ...  ..   ...   ...  \n",
      "9995   group 3  새벽    주말   고소득  \n",
      "9996   group 2   낮    주말   저소득  \n",
      "9997   group 4   낮    평일   저소득  \n",
      "9998   group 6  아침    평일   저소득  \n",
      "9999   group 5   밤    주말   고소득  \n",
      "\n",
      "[10000 rows x 14 columns]\n"
     ]
    }
   ],
   "source": [
    "print(data)"
   ]
  },
  {
   "cell_type": "markdown",
   "id": "04fa0416-7aa0-4623-9d12-d97ab0c66bac",
   "metadata": {},
   "source": [
    "### 7. 클러스터링 (비지도 학습)으로 유저 군집 나누기"
   ]
  },
  {
   "cell_type": "code",
   "execution_count": null,
   "id": "649f498f-7440-4132-9ed3-0a7f5140539c",
   "metadata": {},
   "outputs": [],
   "source": []
  },
  {
   "cell_type": "code",
   "execution_count": null,
   "id": "7cf6af93-5265-47d6-8bb3-6eb06f88f010",
   "metadata": {},
   "outputs": [],
   "source": []
  },
  {
   "cell_type": "code",
   "execution_count": null,
   "id": "225d69f7-7398-4595-bbb7-1dfa042644ef",
   "metadata": {},
   "outputs": [],
   "source": []
  }
 ],
 "metadata": {
  "kernelspec": {
   "display_name": "Python 3 (ipykernel)",
   "language": "python",
   "name": "python3"
  },
  "language_info": {
   "codemirror_mode": {
    "name": "ipython",
    "version": 3
   },
   "file_extension": ".py",
   "mimetype": "text/x-python",
   "name": "python",
   "nbconvert_exporter": "python",
   "pygments_lexer": "ipython3",
   "version": "3.9.13"
  }
 },
 "nbformat": 4,
 "nbformat_minor": 5
}
