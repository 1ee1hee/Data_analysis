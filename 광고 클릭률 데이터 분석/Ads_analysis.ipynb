{
 "cells": [
  {
   "cell_type": "markdown",
   "id": "9625f3dd-5ce4-4370-b84c-f5e744639649",
   "metadata": {},
   "source": [
    "# 광고 클릭율 데이터 분석"
   ]
  },
  {
   "cell_type": "markdown",
   "id": "ce667687-4266-4b64-abb4-94bc519207bc",
   "metadata": {},
   "source": [
    "## 데이터 불러오기\n",
    "- kaggle의 Click-Through Rate Prediction 데이터 사용"
   ]
  },
  {
   "cell_type": "code",
   "execution_count": 6,
   "id": "546c41c9-040d-440b-8059-9d4d0f6f704f",
   "metadata": {},
   "outputs": [
    {
     "name": "stdout",
     "output_type": "stream",
     "text": [
      "<class 'pandas.core.frame.DataFrame'>\n",
      "RangeIndex: 10000 entries, 0 to 9999\n",
      "Data columns (total 10 columns):\n",
      " #   Column                    Non-Null Count  Dtype  \n",
      "---  ------                    --------------  -----  \n",
      " 0   Daily Time Spent on Site  10000 non-null  float64\n",
      " 1   Age                       10000 non-null  float64\n",
      " 2   Area Income               10000 non-null  float64\n",
      " 3   Daily Internet Usage      10000 non-null  float64\n",
      " 4   Ad Topic Line             10000 non-null  object \n",
      " 5   City                      10000 non-null  object \n",
      " 6   Gender                    10000 non-null  object \n",
      " 7   Country                   10000 non-null  object \n",
      " 8   Timestamp                 10000 non-null  object \n",
      " 9   Clicked on Ad             10000 non-null  int64  \n",
      "dtypes: float64(4), int64(1), object(5)\n",
      "memory usage: 781.4+ KB\n",
      "None\n"
     ]
    }
   ],
   "source": [
    "import pandas as pd\n",
    "\n",
    "data = pd.read_csv('data/ads_data.csv')\n",
    "# print(data)\n",
    "print(data.info())"
   ]
  },
  {
   "cell_type": "markdown",
   "id": "aeee78da-0631-4ee6-8f35-88f2ea1c7c57",
   "metadata": {},
   "source": [
    "## 데이터 설명\n",
    "|컬럼|내용|\n",
    "|------------------------|------------------------------------|\n",
    "|Daily Time Spent on Site|사용자가 사이트에서 보낸 시간 (분)|\n",
    "|Age|사용자 나이|\n",
    "|Area Income|사용자가 살고 있는 지역의 평균 수입|\n",
    "|Daily Internet Usage|하루 인터넷 사용 시간 (분)|\n",
    "|Ad Topic Line|광고 제목|\n",
    "|City|사용자 거주 도시|\n",
    "|Gender|성별|\n",
    "|Country|사용자 국가|\n",
    "|Timestamp|광고 노출 시간|\n",
    "|Clicked on Ad|광고 클릭 여부 (0 : 클릭 안함, 1 : 클릭)|"
   ]
  },
  {
   "cell_type": "markdown",
   "id": "7a6463bf-4ae1-4486-bcb6-d9747a1d4296",
   "metadata": {},
   "source": [
    "## 데이터 정리\n",
    "- Timestamp를 datetime 형태로 변환"
   ]
  },
  {
   "cell_type": "code",
   "execution_count": 7,
   "id": "57d1c04c-7bc1-4828-9523-bc452cab699c",
   "metadata": {},
   "outputs": [],
   "source": [
    "data['Timestamp'] = pd.to_datetime(data['Timestamp'])"
   ]
  },
  {
   "cell_type": "code",
   "execution_count": 8,
   "id": "afabfa9e-a790-4149-a58a-c0f5e758c1a7",
   "metadata": {},
   "outputs": [
    {
     "name": "stdout",
     "output_type": "stream",
     "text": [
      "   Daily Time Spent on Site   Age  Area Income  Daily Internet Usage  \\\n",
      "0                     62.26  32.0     69481.85                172.83   \n",
      "1                     41.73  31.0     61840.26                207.17   \n",
      "2                     44.40  30.0     57877.15                172.83   \n",
      "3                     59.88  28.0     56180.93                207.17   \n",
      "4                     49.21  30.0     54324.73                201.58   \n",
      "\n",
      "                         Ad Topic Line             City  Gender  \\\n",
      "0      Decentralized real-time circuit         Lisafort    Male   \n",
      "1       Optional full-range projection  West Angelabury    Male   \n",
      "2  Total 5thgeneration standardization        Reyesfurt  Female   \n",
      "3          Balanced empowering success      New Michael  Female   \n",
      "4  Total 5thgeneration standardization     West Richard  Female   \n",
      "\n",
      "                        Country           Timestamp  Clicked on Ad  \n",
      "0  Svalbard & Jan Mayen Islands 2016-06-09 21:43:05              0  \n",
      "1                     Singapore 2016-01-16 17:56:05              0  \n",
      "2                    Guadeloupe 2016-06-29 10:50:45              0  \n",
      "3                        Zambia 2016-06-21 14:32:32              0  \n",
      "4                         Qatar 2016-07-21 10:54:35              1  \n"
     ]
    }
   ],
   "source": [
    "print(data.head())"
   ]
  },
  {
   "cell_type": "markdown",
   "id": "103518ef-4978-414d-9daa-b31315e999ae",
   "metadata": {},
   "source": [
    "## A/B Test"
   ]
  },
  {
   "cell_type": "markdown",
   "id": "48b0310c-cb9c-402f-8cf7-b356b807ed5e",
   "metadata": {},
   "source": [
    "### 1. 성별에 따른 광고 클릭률\n",
    "- A 그룹 : 남성 사용자\n",
    "- B 그룹 : 여성 사용자\n",
    "- 비교 지표 : 광고 클릭률(Clicked on Ad)"
   ]
  },
  {
   "cell_type": "markdown",
   "id": "e0fd2ec8-aa72-4f19-a739-c488688c39e5",
   "metadata": {},
   "source": [
    "**가설**\n",
    "- 귀무가설 : 성별에 따라 광고 클릭률에 차이가 없다\n",
    "- 대립가설 : 성별에 따라 광고 클릭률에 차이가 있다\n",
    "\n",
    "**가설 설정 이유**\n",
    "- 성별이 광고 클릭에 영향을 미치는지 확인"
   ]
  },
  {
   "cell_type": "code",
   "execution_count": 9,
   "id": "eeeeddb4-5557-46b5-8ea8-b261e4004770",
   "metadata": {},
   "outputs": [
    {
     "name": "stdout",
     "output_type": "stream",
     "text": [
      "Male Click Rate: 0.46\n",
      "Female Click Rate: 0.51\n",
      "T-statistic: -4.97, P-value: 0.0000\n",
      "성별에 따른 클릭률에 통계적으로 유의미한 차이가 있습니다.\n",
      "대립가설 : 성별에 따라 광고 클릭률에 차이가 있습니다.\n"
     ]
    }
   ],
   "source": [
    "male = data[data['Gender'] == 'Male']\n",
    "female = data[data['Gender'] == 'Female']\n",
    "\n",
    "male_click_rate = male['Clicked on Ad'].mean()\n",
    "female_click_rate = female['Clicked on Ad'].mean()\n",
    "# print(male_click_rate, female_click_rate)\n",
    "\n",
    "# t-test 수행 (두 그룹의 클릭률 차이 검정)\n",
    "from scipy.stats import ttest_ind\n",
    "ttest, p_value = ttest_ind(male['Clicked on Ad'], female['Clicked on Ad'])\n",
    "print(f\"Male Click Rate: {male_click_rate:.2f}\")\n",
    "print(f\"Female Click Rate: {female_click_rate:.2f}\")\n",
    "print(f\"T-statistic: {ttest:.2f}, P-value: {p_value:.4f}\")\n",
    "\n",
    "# p_value 가설 해설\n",
    "if p_value < 0.05:\n",
    "    print('성별에 따른 클릭률에 통계적으로 유의미한 차이가 있습니다.')\n",
    "    print('대립가설 : 성별에 따라 광고 클릭률에 차이가 있습니다.')\n",
    "else:\n",
    "    print('성별에 따른 클릭률에 통계적으로 유의미한 차이가 없습니다.')\n",
    "    print('귀무가설 : 성별에 따라 광고 클릭률에 차이가 없습니다.')"
   ]
  },
  {
   "cell_type": "markdown",
   "id": "c548f3f8-726e-4a49-b271-b277b249344b",
   "metadata": {},
   "source": [
    "#### Cohen's d값 확인"
   ]
  },
  {
   "cell_type": "code",
   "execution_count": 10,
   "id": "f28cf520-825d-4012-b6ab-8a674f5a8edd",
   "metadata": {},
   "outputs": [
    {
     "name": "stdout",
     "output_type": "stream",
     "text": [
      "Cohen's d: 0.10\n"
     ]
    }
   ],
   "source": [
    "import numpy as np\n",
    "\n",
    "mean_diff = np.abs(male_click_rate - female_click_rate)\n",
    "std = np.sqrt(((male['Clicked on Ad'].std() ** 2) + (female['Clicked on Ad'].std() ** 2)) / 2)\n",
    "cohen_d = mean_diff / std\n",
    "\n",
    "print(f\"Cohen's d: {cohen_d:.2f}\")"
   ]
  },
  {
   "cell_type": "markdown",
   "id": "6442be80-3e80-462b-8dc7-a779a5a72091",
   "metadata": {},
   "source": [
    "**통계적으로는 유의미하나, 효과 크기는 0.1로 매우 작다. 따라서 전략에 큰 영향을 미칠 가능성이 매우 적다**"
   ]
  },
  {
   "cell_type": "markdown",
   "id": "66260481-6e1f-4c71-b4db-f6524e78d7ef",
   "metadata": {},
   "source": [
    "### 2. 연령별 광고 클릭률"
   ]
  },
  {
   "cell_type": "markdown",
   "id": "2bcf8d08-eaad-4e0f-93e7-f3bc9c407ac5",
   "metadata": {},
   "source": [
    "**가설**\n",
    "- 귀무가설 : 연령대별 클릭률 차이 없다\n",
    "- 대립가설 : 연령대별 클릭률 차이 있다 "
   ]
  },
  {
   "cell_type": "code",
   "execution_count": 11,
   "id": "f7280eac-2bd6-4f8f-85e7-61c927028163",
   "metadata": {},
   "outputs": [
    {
     "name": "stdout",
     "output_type": "stream",
     "text": [
      "stats: 578.1662\n",
      "pvalue: 0.0000\n",
      "귀무가설 기각 -> 연령대별로 클릭률 차이 있다\n"
     ]
    }
   ],
   "source": [
    "from scipy import stats\n",
    "\n",
    "g1 = data[(data['Age'] < 25)]['Clicked on Ad']\n",
    "g2 = data[(data['Age'] >= 25) & (data['Age'] < 30)]['Clicked on Ad']\n",
    "g3 = data[(data['Age'] >= 30) & (data['Age'] < 35)]['Clicked on Ad']\n",
    "g4 = data[(data['Age'] >= 35) & (data['Age'] < 40)]['Clicked on Ad']\n",
    "g5 = data[(data['Age'] >= 40) & (data['Age'] < 45)]['Clicked on Ad']\n",
    "g6 = data[(data['Age'] >= 45)]['Clicked on Ad']\n",
    "\n",
    "f_stat, p_value = stats.f_oneway(g1, g2, g3, g4, g5, g6)\n",
    "\n",
    "print(f'stats: {f_stat:.4f}')\n",
    "print(f'pvalue: {p_value:.4f}')\n",
    "\n",
    "if p_value < 0.05:\n",
    "    print('귀무가설 기각 -> 연령대별로 클릭률 차이 있다')\n",
    "else:\n",
    "    print('귀무가설 채택 -> 연령대별 클릭률 차이 없다')\n"
   ]
  },
  {
   "cell_type": "markdown",
   "id": "9b5df8cc-a7cd-40f0-8488-ef9ce5465ae2",
   "metadata": {},
   "source": [
    "### Tukey's HSD (사후 검정)"
   ]
  },
  {
   "cell_type": "code",
   "execution_count": 12,
   "id": "0931b02a-2185-40d6-9124-abfa7f33a374",
   "metadata": {},
   "outputs": [
    {
     "name": "stdout",
     "output_type": "stream",
     "text": [
      " Multiple Comparison of Means - Tukey HSD, FWER=0.05  \n",
      "======================================================\n",
      " group1  group2 meandiff p-adj   lower   upper  reject\n",
      "------------------------------------------------------\n",
      "group 1 group 2  -0.0599 0.0151 -0.1126 -0.0073   True\n",
      "group 1 group 3   0.0233 0.7975 -0.0287  0.0753  False\n",
      "group 1 group 4    0.168    0.0  0.1162  0.2197   True\n",
      "group 1 group 5   0.4508    0.0  0.3961  0.5055   True\n",
      "group 1 group 6   0.5703    0.0  0.5174  0.6231   True\n",
      "group 2 group 3   0.0832    0.0  0.0427  0.1238   True\n",
      "group 2 group 4   0.2279    0.0  0.1876  0.2681   True\n",
      "group 2 group 5   0.5108    0.0  0.4668  0.5548   True\n",
      "group 2 group 6   0.6302    0.0  0.5886  0.6718   True\n",
      "group 3 group 4   0.1446    0.0  0.1053   0.184   True\n",
      "group 3 group 5   0.4275    0.0  0.3844  0.4707   True\n",
      "group 3 group 6    0.547    0.0  0.5062  0.5877   True\n",
      "group 4 group 5   0.2829    0.0    0.24  0.3257   True\n",
      "group 4 group 6   0.4023    0.0  0.3619  0.4427   True\n",
      "group 5 group 6   0.1195    0.0  0.0753  0.1636   True\n",
      "------------------------------------------------------\n"
     ]
    }
   ],
   "source": [
    "from statsmodels.stats.multicomp import pairwise_tukeyhsd\n",
    "\n",
    "def age_group(age):\n",
    "    if age < 25:\n",
    "        return 'group 1'\n",
    "    elif age < 30:\n",
    "        return 'group 2'\n",
    "    elif age < 35:\n",
    "        return 'group 3'\n",
    "    elif age < 40:\n",
    "        return 'group 4'\n",
    "    elif age < 45:\n",
    "        return 'group 5'\n",
    "    else:\n",
    "        return 'group 6'\n",
    "\n",
    "data['Age_Group'] = data['Age'].apply(age_group)\n",
    "\n",
    "tukey_result = pairwise_tukeyhsd(\n",
    "    endog = data['Clicked on Ad'],\n",
    "    groups = data['Age_Group'],\n",
    "    alpha = 0.05\n",
    ")\n",
    "\n",
    "result = tukey_result.summary()\n",
    "print(result)"
   ]
  },
  {
   "cell_type": "markdown",
   "id": "bab5d48b-3866-4720-8750-021885b40ce4",
   "metadata": {},
   "source": [
    "**group 1 과 group 3 의 reject가 False 이기 때문에 유의미한 차이가 없다. 하지만 다른 모든 것은 유의미한 차이가 있는것을 확인 할 수 있다**"
   ]
  },
  {
   "cell_type": "markdown",
   "id": "f2c25d0e-b8f1-4116-9ad8-c7154e9a81bf",
   "metadata": {},
   "source": [
    "### 결과 시각화"
   ]
  },
  {
   "cell_type": "code",
   "execution_count": 13,
   "id": "54a8289c-ca83-4ef3-a930-86e62e5e7ab5",
   "metadata": {},
   "outputs": [
    {
     "data": {
      "image/png": "[encoded data removed]",
      "text/plain": [
       "<Figure size 1000x600 with 1 Axes>"
      ]
     },
     "metadata": {},
     "output_type": "display_data"
    }
   ],
   "source": [
    "import matplotlib.pyplot as plt\n",
    "import pandas as pd\n",
    "\n",
    "plt.rc('font', family='Malgun Gothic')\n",
    "\n",
    "t_r = {\n",
    "    'group1' : ['group1', 'group1', 'group1', 'group1', 'group1', 'group2', 'group2', 'group2', 'group2', 'group3', 'group3', 'group3', 'group4', 'group4', 'group5'],\n",
    "    'group2' : ['group2', 'group3', 'group4', 'group5', 'group6', 'group3', 'group4', 'group5', 'group6', 'group4', 'group5', 'group6', 'group5', 'group6', 'group6'],\n",
    "    'meandiff' : [-0.0599, 0.0233, 0.168, 0.4508, 0.5703, 0.0832, 0.2279, 0.5108, 0.6302, 0.1446, 0.4275, 0.547, 0.2829, 0.4023, 0.1195],\n",
    "    'p_adj' : [0.0151, 0.7975, 0.0, 0.0, 0.0, 0.0, 0.0, 0.0, 0.0, 0.0, 0.0, 0.0, 0.0, 0.0, 0.0],\n",
    "    'reject' : [True, False, True, True, True, True, True, True, True, True, True, True, True, True, True]\n",
    "}\n",
    "\n",
    "df_tukey = pd.DataFrame(t_r)\n",
    "\n",
    "colors = ['red' if reject else 'green' for reject in df_tukey['reject']]\n",
    "\n",
    "plt.figure(figsize=(10, 6))\n",
    "\n",
    "plt.barh(df_tukey['group1'] + 'vs' + df_tukey['group2'], df_tukey['meandiff'], color = colors)\n",
    "\n",
    "plt.axvline(x = 0, color = 'black', linestyle = '--')\n",
    "plt.title('Tukey HSD : 그룹별 meandiff')\n",
    "plt.xlabel('meandiff')\n",
    "plt.ylabel('그룹')\n",
    "plt.grid(True)\n",
    "plt.show()"
   ]
  },
  {
   "cell_type": "markdown",
   "id": "40f01868-ce91-4439-8b6d-2f845fbcca18",
   "metadata": {},
   "source": [
    "### 3. 인터넷 사용 시간에 따른 광고 클릭률\n",
    "**가설**\n",
    "- 귀무가설 : 인터넷 사용 시간이 다른 그룹 간 광고 클릭률 차이가 없다.\n",
    "- 대립가설 : 인터넷 사용 시간이 다른 그룹 간 광고 클릭률 차이가 있다."
   ]
  },
  {
   "cell_type": "markdown",
   "id": "ec0e0921-c25a-4a16-8c6c-55a182cdb8ca",
   "metadata": {},
   "source": [
    "**그룹**\n",
    "- A : 하루 인터넷 사용 시간이 적은 그룹 (평균 이하)\n",
    "- B : 하루 인터넷 사용 시간이 많은 그룹 (평균 초과)"
   ]
  },
  {
   "cell_type": "code",
   "execution_count": 15,
   "id": "cea54c77-5a47-403a-80d7-2778f543c183",
   "metadata": {},
   "outputs": [
    {
     "name": "stdout",
     "output_type": "stream",
     "text": [
      "4858 5142\n",
      "Shapiro A pvalue:  0.0\n",
      "Shapiro B pvalue:  0.0\n",
      "Levene pvalue:  0.1967\n"
     ]
    }
   ],
   "source": [
    "from scipy import stats\n",
    "\n",
    "avg_usage = data['Daily Internet Usage'].mean()\n",
    "group_a = data[data['Daily Internet Usage'] <= avg_usage]['Clicked on Ad']\n",
    "group_b = data[data['Daily Internet Usage'] > avg_usage]['Clicked on Ad']\n",
    "\n",
    "print(group_a.shape[0], group_b.shape[0])\n",
    "\n",
    "# 정규성 검정\n",
    "print('Shapiro A pvalue: ', round(stats.shapiro(group_a).pvalue, 4))\n",
    "print('Shapiro B pvalue: ', round(stats.shapiro(group_b).pvalue, 4))\n",
    "\n",
    "# 등분산 검정\n",
    "print('Levene pvalue: ', round(stats.levene(group_a, group_b).pvalue, 4))"
   ]
  },
  {
   "cell_type": "markdown",
   "id": "84acffb1-a5c9-4b90-9f90-ff1c306f495a",
   "metadata": {},
   "source": [
    "**정규성 검정 결과 정규성을 가정할 수 없고 등분산 검정 결과 등분산성이 확보됨. 샘플수가 4858, 5142개로 샘플 수가 크므로 중심극한정리에 의해 t-test 진행**"
   ]
  },
  {
   "cell_type": "code",
   "execution_count": 16,
   "id": "44fdfaf7-9b4c-4b9d-a3aa-4baf3a581c14",
   "metadata": {},
   "outputs": [
    {
     "name": "stdout",
     "output_type": "stream",
     "text": [
      "t_statistic:  13.5001\n",
      "p_value:  0.0\n",
      "귀무가설 기각 -> 인터넷 사용 시간에 따라 클릭률에 유의미한 차이 있음\n"
     ]
    }
   ],
   "source": [
    "t_stat, pvalue = stats.ttest_ind(group_a, group_b, equal_var = True)\n",
    "print('t_statistic: ', round(t_stat, 4))\n",
    "print('p_value: ', round(pvalue, 4))\n",
    "\n",
    "if p_value < 0.05:\n",
    "    print('귀무가설 기각 -> 인터넷 사용 시간에 따라 클릭률에 유의미한 차이 있음')\n",
    "else:\n",
    "    print('귀무가설 채택 -> 클릭률 차이 없음')"
   ]
  },
  {
   "cell_type": "code",
   "execution_count": 17,
   "id": "030585bb-ce7a-4fec-b207-37c0149418f2",
   "metadata": {},
   "outputs": [
    {
     "name": "stdout",
     "output_type": "stream",
     "text": [
      "Cohen's d:  0.27\n"
     ]
    }
   ],
   "source": [
    "import numpy as np\n",
    "\n",
    "cohen_d = np.abs(group_a.mean() - group_b.mean()) / np.sqrt((group_a.std() ** 2 + group_b.std() ** 2) / 2)\n",
    "print(\"Cohen's d: \", round(cohen_d, 2))"
   ]
  },
  {
   "cell_type": "markdown",
   "id": "434ae35b-2d0a-46b4-98e0-192f655290e0",
   "metadata": {},
   "source": [
    "**통계적으로는 유의미하나, 효과 크기는 0.27로 매우 작다. 따라서 전략에 큰 영향을 미칠 가능성이 매우 적다**"
   ]
  },
  {
   "cell_type": "markdown",
   "id": "71a269a5-63cf-4f04-be1c-80ce5861a839",
   "metadata": {},
   "source": [
    "### 결과 시각화"
   ]
  },
  {
   "cell_type": "code",
   "execution_count": 18,
   "id": "4e55f888-99c4-4c53-992c-0ed005c98601",
   "metadata": {},
   "outputs": [
    {
     "data": {
      "image/png": "[encoded data removed]",
      "text/plain": [
       "<Figure size 640x480 with 1 Axes>"
      ]
     },
     "metadata": {},
     "output_type": "display_data"
    }
   ],
   "source": [
    "import seaborn as sns\n",
    "import matplotlib.pyplot as plt\n",
    "\n",
    "df = data.copy()\n",
    "df['Usage Group'] = np.where(df['Daily Internet Usage'] <= avg_usage, 'Low Usage', 'High Usage')\n",
    "\n",
    "sns.barplot(x = 'Usage Group', y = 'Clicked on Ad', data = df, errorbar=('ci', 95))\n",
    "plt.title(\"광고 클릭률 vs 인터넷 사용 시간 그룹\")\n",
    "plt.ylabel(\"평균 클릭률\")\n",
    "plt.show()"
   ]
  },
  {
   "cell_type": "markdown",
   "id": "2433e7b6-f3d9-40ec-8913-61ef0ec9f96a",
   "metadata": {},
   "source": [
    "### 4. 시간에 따른 광고 클릭률 분석\n",
    "- 새벽, 아침, 낮, 저녁, 밤\n",
    "- 평일, 주말"
   ]
  },
  {
   "cell_type": "markdown",
   "id": "f35affe6-1485-48a1-9fa8-3357e394c8ff",
   "metadata": {},
   "source": [
    "#### 시간대 별 광고 클릭률"
   ]
  },
  {
   "cell_type": "code",
   "execution_count": 19,
   "id": "5050631e-1ebb-482b-b255-48e9c6a1270c",
   "metadata": {},
   "outputs": [],
   "source": [
    "# 시간대 분류 함수\n",
    "def time(hour):\n",
    "    if 0 <= hour < 5:\n",
    "        return '새벽'\n",
    "    elif 5 <= hour < 9:\n",
    "        return '아침'\n",
    "    elif 9 <= hour < 18:\n",
    "        return '낮'\n",
    "    elif 18 <= hour < 21:\n",
    "        return '저녁'\n",
    "    else:\n",
    "        return '밤'\n",
    "\n",
    "data['시간대'] = data['Timestamp'].dt.hour.apply(time)\n",
    "\n",
    "data['평일/주말'] = data['Timestamp'].dt.dayofweek.apply(lambda x: '주말' if x >= 5 else '평일')\n",
    "\n",
    "# print(data.head())"
   ]
  },
  {
   "cell_type": "markdown",
   "id": "6facdd0a-f7b6-4c69-9cac-a2e8312df00e",
   "metadata": {},
   "source": [
    "**가설**\n",
    "- 귀무가설 : 시간대별 광고 클릭률 차이가 없음\n",
    "- 대립가설 : 시간대별 광고 클릭률 차이가 있음"
   ]
  },
  {
   "cell_type": "code",
   "execution_count": 20,
   "id": "c335860d-ba6d-498f-bde4-51045883deb5",
   "metadata": {},
   "outputs": [
    {
     "name": "stdout",
     "output_type": "stream",
     "text": [
      "statistic:  56.7107\n",
      "p_value:  0.0\n",
      "귀무가설 기각 -> 시간대별 광고 클릭률에 차이가 있음\n"
     ]
    }
   ],
   "source": [
    "from scipy import stats\n",
    "\n",
    "dawn = data[data['시간대'] == '새벽']['Clicked on Ad']\n",
    "morning = data[data['시간대'] == '아침']['Clicked on Ad']\n",
    "noon = data[data['시간대'] == '낮']['Clicked on Ad']\n",
    "evening = data[data['시간대'] == '저녁']['Clicked on Ad']\n",
    "night = data[data['시간대'] == '밤']['Clicked on Ad']\n",
    "\n",
    "f_stat, p_value = stats.f_oneway(dawn, morning, noon, evening, night)\n",
    "\n",
    "print('statistic: ', round(f_stat, 4))\n",
    "print('p_value: ', round(p_value, 4))\n",
    "\n",
    "if p_value < 0.05:\n",
    "    print('귀무가설 기각 -> 시간대별 광고 클릭률에 차이가 있음')\n",
    "else:\n",
    "    print('귀무가설 채택 -> 시간대별 광고 클릭률에 차이가 없음')"
   ]
  },
  {
   "cell_type": "markdown",
   "id": "0472c950-6896-4266-9832-419b61abb747",
   "metadata": {},
   "source": [
    "#### Tukey HSD 사후 검정"
   ]
  },
  {
   "cell_type": "code",
   "execution_count": 21,
   "id": "c86defa6-9675-4c59-aeda-bc9793a7071f",
   "metadata": {},
   "outputs": [
    {
     "name": "stdout",
     "output_type": "stream",
     "text": [
      "Multiple Comparison of Means - Tukey HSD, FWER=0.05 \n",
      "====================================================\n",
      "group1 group2 meandiff p-adj   lower   upper  reject\n",
      "----------------------------------------------------\n",
      "     낮      밤     0.03 0.2413 -0.0099    0.07  False\n",
      "     낮     새벽  -0.1773    0.0 -0.2146   -0.14   True\n",
      "     낮     아침  -0.0777    0.0 -0.1216 -0.0338   True\n",
      "     낮     저녁  -0.0072 0.9908 -0.0499  0.0355  False\n",
      "     밤     새벽  -0.2074    0.0 -0.2521 -0.1627   True\n",
      "     밤     아침  -0.1077    0.0 -0.1581 -0.0574   True\n",
      "     밤     저녁  -0.0372 0.2376 -0.0866  0.0121  False\n",
      "    새벽     아침   0.0996    0.0  0.0513  0.1479   True\n",
      "    새벽     저녁   0.1701    0.0  0.1229  0.2173   True\n",
      "    아침     저녁   0.0705 0.0024  0.0179  0.1231   True\n",
      "----------------------------------------------------\n"
     ]
    }
   ],
   "source": [
    "from statsmodels.stats.multicomp import pairwise_tukeyhsd\n",
    "\n",
    "tukey_data = data[['시간대', 'Clicked on Ad']]\n",
    "\n",
    "tukey_result = pairwise_tukeyhsd(\n",
    "    endog = tukey_data['Clicked on Ad'],\n",
    "    groups = tukey_data['시간대'],\n",
    "    alpha = 0.05\n",
    ")\n",
    "\n",
    "print(tukey_result)"
   ]
  },
  {
   "cell_type": "markdown",
   "id": "dd9d5eb9-8c37-49eb-bc8a-46d644b89c10",
   "metadata": {},
   "source": [
    "**(낮, 밤), (낮, 저녁), (밤, 저녁)의 reject가 False 이기 때문에 유의미한 차이가 없다. 하지만 다른 모든 것은 유의미한 차이가 있는것을 확인 할 수 있다.**"
   ]
  },
  {
   "cell_type": "markdown",
   "id": "453bad59-ced6-4e25-aa6c-db95c7be9621",
   "metadata": {},
   "source": [
    "#### 시각화"
   ]
  },
  {
   "cell_type": "code",
   "execution_count": 22,
   "id": "f58ededf-0af1-4d18-a5bc-9edc245b27ca",
   "metadata": {},
   "outputs": [
    {
     "data": {
      "image/png": "[encoded data removed]",
      "text/plain": [
       "<Figure size 1000x600 with 1 Axes>"
      ]
     },
     "metadata": {},
     "output_type": "display_data"
    }
   ],
   "source": [
    "import matplotlib.pyplot as plt\n",
    "\n",
    "tukey_result.plot_simultaneous()\n",
    "plt.title(\"Tukey HSD - 시간대 vs Ad Click\")\n",
    "plt.xlabel(\"Mean difference in Ad Clicks\")\n",
    "plt.grid(True)\n",
    "plt.show()"
   ]
  },
  {
   "cell_type": "code",
   "execution_count": 23,
   "id": "7d6cdc08-b40c-4775-9e88-3c08a9915c97",
   "metadata": {},
   "outputs": [
    {
     "data": {
      "image/png": "[encoded data removed]",
      "text/plain": [
       "<Figure size 1000x600 with 1 Axes>"
      ]
     },
     "metadata": {},
     "output_type": "display_data"
    }
   ],
   "source": [
    "import matplotlib\n",
    "\n",
    "plt.rc('font', family='Malgun Gothic')\n",
    "matplotlib.rcParams['axes.unicode_minus'] = False\n",
    "\n",
    "t_r = {\n",
    "    'group1' : ['낮', '낮', '낮', '낮', '밤', '밤', '밤', '새벽', '새벽', '아침'],\n",
    "    'group2' : ['밤', '새벽', '아침', '저녁', '새벽', '아침', '저녁', '아침', '저녁', '저녁'],\n",
    "    'meandiff' : [0.03, -0.1773, -0.0777, -0.0072, -0.2074, -0.1077, -0.0372, 0.0996, 0.1701, 0.0705],\n",
    "    'p_adj' : [0.2413, 0.0, 0.0, 0.9908, 0.0, 0.0, 0.2376, 0.0, 0.0, 0.0024],\n",
    "    'reject' : [False, True, True, False, True, True, False, True, True, True]\n",
    "}\n",
    "\n",
    "df_tukey = pd.DataFrame(t_r)\n",
    "\n",
    "colors = ['red' if reject else 'green' for reject in df_tukey['reject']]\n",
    "\n",
    "plt.figure(figsize=(10, 6))\n",
    "\n",
    "plt.barh(df_tukey['group1'] + 'vs' + df_tukey['group2'], df_tukey['meandiff'], color = colors)\n",
    "\n",
    "plt.axvline(x = 0, color = 'black', linestyle = '--')\n",
    "plt.title('Tukey HSD : 그룹별 meandiff')\n",
    "plt.xlabel('meandiff')\n",
    "plt.ylabel('그룹')\n",
    "plt.grid(True)\n",
    "plt.show()"
   ]
  },
  {
   "cell_type": "markdown",
   "id": "79472572-cda7-4682-b7fd-cabc00c415a2",
   "metadata": {},
   "source": [
    "#### 평일/주말에 따른 광고 클릭률 분석"
   ]
  },
  {
   "cell_type": "code",
   "execution_count": 25,
   "id": "fb261cf2-860c-4af9-96d8-117292538458",
   "metadata": {},
   "outputs": [
    {
     "name": "stdout",
     "output_type": "stream",
     "text": [
      "7110 2890\n",
      "shapiro_weekday:  0.0\n",
      "shapiro_weekend:  0.0\n",
      "levene:  0.8951\n",
      "stats:  -0.1318\n",
      "p_value:  0.8951\n",
      "귀무가설 채택 -> 평일과 주말의 광고 클릭률은 차이가 없다\n"
     ]
    }
   ],
   "source": [
    "weekday = data[data['평일/주말'] == '평일']['Clicked on Ad']\n",
    "weekend = data[data['평일/주말'] == '주말']['Clicked on Ad']\n",
    "\n",
    "print(weekday.shape[0], weekend.shape[0])\n",
    "\n",
    "# 정규성 검정\n",
    "print('shapiro_weekday: ', round(stats.shapiro(weekday).pvalue, 4))\n",
    "print('shapiro_weekend: ', round(stats.shapiro(weekend).pvalue, 4))\n",
    "\n",
    "# 등분산 검정\n",
    "print('levene: ', round(stats.levene(weekday, weekend).pvalue, 4))\n",
    "\n",
    "t_stat, p_value = stats.ttest_ind(weekday, weekend, equal_var = True)\n",
    "\n",
    "print('stats: ', round(t_stat, 4))\n",
    "print('p_value: ', round(p_value, 4))\n",
    "\n",
    "if p_value < 0.05:\n",
    "    print('귀무가설 기각 -> 평일과 주말의 광고 클릭률은 차이가 있다')\n",
    "else:\n",
    "    print('귀무가설 채택 -> 평일과 주말의 광고 클릭률은 차이가 없다')"
   ]
  },
  {
   "cell_type": "markdown",
   "id": "1f55ef12-5b9e-4a48-b97a-0df3dce930d1",
   "metadata": {},
   "source": [
    "### 5. 소득에 따른 광고 반응 차이\n",
    "- 고소득군, 저소득군 클릭률 비교\n",
    "- Area Incom 기준 상하위 50%나누어 A/B 테스트 진행"
   ]
  },
  {
   "cell_type": "code",
   "execution_count": 26,
   "id": "fcb7da44-209c-4679-92a3-c2f413396b35",
   "metadata": {},
   "outputs": [
    {
     "name": "stdout",
     "output_type": "stream",
     "text": [
      "79332.33 13996.5 56180.93\n"
     ]
    }
   ],
   "source": [
    "# 중앙값 기준으로 나누기\n",
    "median_income = data['Area Income'].median()\n",
    "print(data['Area Income'].max(), data['Area Income'].min(), median_income)\n",
    "\n",
    "low_income = data[data['Area Income'] < median_income]\n",
    "high_income = data[data['Area Income'] >= median_income]"
   ]
  },
  {
   "cell_type": "code",
   "execution_count": 27,
   "id": "08414ab1-36da-4020-8ba9-debbe68147e5",
   "metadata": {},
   "outputs": [
    {
     "name": "stdout",
     "output_type": "stream",
     "text": [
      "z_stat:  4.8082\n",
      "p_value:  0.0\n",
      "귀무가설 기각 -> 소득 구간에 따라 클릭률 차이 있음\n"
     ]
    }
   ],
   "source": [
    "import statsmodels.api as sm\n",
    "\n",
    "clicks = [low_income['Clicked on Ad'].sum(), high_income['Clicked on Ad'].sum()]\n",
    "n = [low_income.shape[0], high_income.shape[0]]\n",
    "\n",
    "# 이항 비율 검정\n",
    "z_stat, p_value = sm.stats.proportions_ztest(clicks, n)\n",
    "print('z_stat: ', round(z_stat, 4))\n",
    "print('p_value: ', round(p_value, 4))\n",
    "\n",
    "if p_value < 0.05:\n",
    "    print('귀무가설 기각 -> 소득 구간에 따라 클릭률 차이 있음')\n",
    "else:\n",
    "    print('귀무가설 채택 -> 소득 구간에 따른 클릭률 차이 없음')"
   ]
  },
  {
   "cell_type": "markdown",
   "id": "f4951d67-9d96-4bb9-a2f4-d204b16c16bb",
   "metadata": {},
   "source": [
    "#### 시각화"
   ]
  },
  {
   "cell_type": "code",
   "execution_count": 28,
   "id": "30cb564c-f866-45b5-bc7f-ade525f9e968",
   "metadata": {},
   "outputs": [
    {
     "data": {
      "image/png": "[encoded data removed]",
      "text/plain": [
       "<Figure size 640x480 with 1 Axes>"
      ]
     },
     "metadata": {},
     "output_type": "display_data"
    }
   ],
   "source": [
    "import seaborn as sns\n",
    "import matplotlib.pyplot as plt\n",
    "\n",
    "data['수입 그룹'] = ['저소득' if i < median_income else '고소득' for i in data['Area Income']]\n",
    "\n",
    "click_rate = data.groupby('수입 그룹')['Clicked on Ad'].mean().reset_index()\n",
    "\n",
    "sns.barplot(data = click_rate, x = '수입 그룹', y = 'Clicked on Ad')\n",
    "plt.title('소득 그룹별 광고 클릭률')\n",
    "plt.ylabel('클릭률')\n",
    "plt.xlabel('소득 그룹')\n",
    "plt.ylim(0, 1)\n",
    "plt.grid(axis = 'y')\n",
    "plt.show()"
   ]
  },
  {
   "cell_type": "markdown",
   "id": "57a0f2b2-6a35-4388-bcb7-3c2d54cabe13",
   "metadata": {},
   "source": [
    "#### Cohen's h 계산"
   ]
  },
  {
   "cell_type": "code",
   "execution_count": 29,
   "id": "3b0fa9b2-518f-46f5-ba26-634298cf45d8",
   "metadata": {},
   "outputs": [
    {
     "name": "stdout",
     "output_type": "stream",
     "text": [
      "cohen's h:  0.0962\n"
     ]
    }
   ],
   "source": [
    "p1 = low_income['Clicked on Ad'].mean()\n",
    "p2 = high_income['Clicked on Ad'].mean()\n",
    "\n",
    "cohen_h = 2 * (np.arcsin(np.sqrt(p1)) - np.arcsin(np.sqrt(p2)))\n",
    "print(\"cohen's h: \", round(cohen_h, 4))"
   ]
  },
  {
   "cell_type": "markdown",
   "id": "70f66962-16fc-45fb-9432-07b154fba86c",
   "metadata": {},
   "source": [
    "**효과 아주 작음**"
   ]
  },
  {
   "cell_type": "markdown",
   "id": "d06fefa8-01e7-43c2-9875-7033ebb947de",
   "metadata": {},
   "source": [
    "### 6. 사이트에 머문 시간별 광고 클릭률 분석"
   ]
  },
  {
   "cell_type": "code",
   "execution_count": 30,
   "id": "1801f87d-0137-4dcf-91d9-cbc492cf54f8",
   "metadata": {},
   "outputs": [
    {
     "name": "stdout",
     "output_type": "stream",
     "text": [
      "90.97 32.6 59.59\n"
     ]
    }
   ],
   "source": [
    "# 중앙값 기준으로 나누기\n",
    "median_Spent_Site = data['Daily Time Spent on Site'].median()\n",
    "print(data['Daily Time Spent on Site'].max(), data['Daily Time Spent on Site'].min(), median_Spent_Site)\n",
    "\n",
    "low_spent_site = data[data['Daily Time Spent on Site'] < median_Spent_Site]\n",
    "high_spent_site = data[data['Daily Time Spent on Site'] >= median_Spent_Site]"
   ]
  },
  {
   "cell_type": "code",
   "execution_count": 32,
   "id": "f4cd6579-a45c-4206-ae7f-b67a82cddbe8",
   "metadata": {},
   "outputs": [
    {
     "name": "stdout",
     "output_type": "stream",
     "text": [
      "z_stat:  -7.09\n",
      "p_value:  0.0\n",
      "귀무가설 기각 -> 사이트에 머문 시간에 따라 클릭률 차이 있음\n"
     ]
    }
   ],
   "source": [
    "import statsmodels.api as sm\n",
    "\n",
    "clicks = [low_spent_site['Clicked on Ad'].sum(), high_spent_site['Clicked on Ad'].sum()]\n",
    "n = [low_spent_site.shape[0], high_spent_site.shape[0]]\n",
    "\n",
    "# 이항 비율 검정\n",
    "z_stat, p_value = sm.stats.proportions_ztest(clicks, n)\n",
    "print('z_stat: ', round(z_stat, 4))\n",
    "print('p_value: ', round(p_value, 4))\n",
    "\n",
    "if p_value < 0.05:\n",
    "    print('귀무가설 기각 -> 사이트에 머문 시간에 따라 클릭률 차이 있음')\n",
    "else:\n",
    "    print('귀무가설 채택 -> 사이트에 머문 시간에 따른 클릭률 차이 없음')"
   ]
  },
  {
   "cell_type": "markdown",
   "id": "3fc16a63-b4f6-4314-a6e3-95e32f7689d8",
   "metadata": {},
   "source": [
    "#### 시각화"
   ]
  },
  {
   "cell_type": "code",
   "execution_count": 33,
   "id": "cb1e1159-acf5-4e39-8674-493af97246f0",
   "metadata": {},
   "outputs": [
    {
     "data": {
      "image/png": "[encoded data removed]",
      "text/plain": [
       "<Figure size 640x480 with 1 Axes>"
      ]
     },
     "metadata": {},
     "output_type": "display_data"
    }
   ],
   "source": [
    "import seaborn as sns\n",
    "import matplotlib.pyplot as plt\n",
    "\n",
    "data['사이트에 머문 시간 그룹'] = ['low' if i < median_Spent_Site else 'high' for i in data['Daily Time Spent on Site']]\n",
    "\n",
    "click_rate = data.groupby('사이트에 머문 시간 그룹')['Clicked on Ad'].mean().reset_index()\n",
    "\n",
    "sns.barplot(data = click_rate, x = '사이트에 머문 시간 그룹', y = 'Clicked on Ad')\n",
    "plt.title('사이트에 머문 시간 그룹별 광고 클릭률')\n",
    "plt.ylabel('클릭률')\n",
    "plt.xlabel('사이트에 머문 시간 그룹')\n",
    "plt.ylim(0, 1)\n",
    "plt.grid(axis = 'y')\n",
    "plt.show()"
   ]
  },
  {
   "cell_type": "markdown",
   "id": "fbc8c1bc-7fd0-4a3d-8862-b0120b9d566b",
   "metadata": {},
   "source": [
    "#### Cohen's h 계산"
   ]
  },
  {
   "cell_type": "code",
   "execution_count": 34,
   "id": "e64e302a-8692-4b65-b3ce-f6f7f0bb7abd",
   "metadata": {},
   "outputs": [
    {
     "name": "stdout",
     "output_type": "stream",
     "text": [
      "cohen's h:  -0.1419\n"
     ]
    }
   ],
   "source": [
    "p1 = low_spent_site['Clicked on Ad'].mean()\n",
    "p2 = high_spent_site['Clicked on Ad'].mean()\n",
    "\n",
    "cohen_h = 2 * (np.arcsin(np.sqrt(p1)) - np.arcsin(np.sqrt(p2)))\n",
    "print(\"cohen's h: \", round(cohen_h, 4))"
   ]
  },
  {
   "cell_type": "markdown",
   "id": "42237cac-5c30-4257-a190-2cbf478c08d9",
   "metadata": {},
   "source": [
    "### 7. 클릭 예측 모델 만들기\n",
    "- 지금까지의 A/B 테스트를 통해 얻었던 유의미한 변수를 좀 더 세분화하여 기존 데이터에서 다시 정리"
   ]
  },
  {
   "cell_type": "markdown",
   "id": "f5b58eaa-4e17-4659-b43a-1f5a1c4c7fd3",
   "metadata": {},
   "source": [
    "1. 성별(Male : 0, Female: 1)\n",
    "2. 연령별(<25, 25-29, 30-34, 35-39, 40-44, 45+)\n",
    "3. 인터넷사용시간(평균값에서 High, Low)\n",
    "4. 시간대(새벽, 아침, 낮, 저녁, 밤)\n",
    "5. 소득(Low, Medium, High)\n",
    "6. 사이트에 머문 시간대(Low, Medium, High)"
   ]
  },
  {
   "cell_type": "markdown",
   "id": "b6618017-629c-49a0-a982-05a91847c6a9",
   "metadata": {},
   "source": [
    "#### 데이터 불러오기"
   ]
  },
  {
   "cell_type": "code",
   "execution_count": 84,
   "id": "edae04f5-a3f1-4f7a-ba97-cbacc3adf222",
   "metadata": {},
   "outputs": [
    {
     "name": "stdout",
     "output_type": "stream",
     "text": [
      "<class 'pandas.core.frame.DataFrame'>\n",
      "RangeIndex: 10000 entries, 0 to 9999\n",
      "Data columns (total 10 columns):\n",
      " #   Column                    Non-Null Count  Dtype         \n",
      "---  ------                    --------------  -----         \n",
      " 0   Daily Time Spent on Site  10000 non-null  float64       \n",
      " 1   Age                       10000 non-null  float64       \n",
      " 2   Area Income               10000 non-null  float64       \n",
      " 3   Daily Internet Usage      10000 non-null  float64       \n",
      " 4   Ad Topic Line             10000 non-null  object        \n",
      " 5   City                      10000 non-null  object        \n",
      " 6   Gender                    10000 non-null  object        \n",
      " 7   Country                   10000 non-null  object        \n",
      " 8   Timestamp                 10000 non-null  datetime64[ns]\n",
      " 9   Clicked on Ad             10000 non-null  int64         \n",
      "dtypes: datetime64[ns](1), float64(4), int64(1), object(4)\n",
      "memory usage: 781.4+ KB\n",
      "None\n"
     ]
    }
   ],
   "source": [
    "import pandas as pd\n",
    "import numpy as np\n",
    "\n",
    "ads = pd.read_csv('data/ads_data.csv')\n",
    "\n",
    "ads['Timestamp'] = pd.to_datetime(ads['Timestamp'])\n",
    "\n",
    "print(ads.info())"
   ]
  },
  {
   "cell_type": "code",
   "execution_count": 85,
   "id": "581b9549-e48d-44f3-959a-88f725ceb643",
   "metadata": {},
   "outputs": [
    {
     "name": "stdout",
     "output_type": "stream",
     "text": [
      "559\n",
      "521\n",
      "207\n"
     ]
    }
   ],
   "source": [
    "print(len(ads['Ad Topic Line'].unique()))\n",
    "print(len(ads['City'].unique()))\n",
    "print(len(ads['Country'].unique()))"
   ]
  },
  {
   "cell_type": "markdown",
   "id": "31ae50a6-b778-44a7-95a0-dd2463322112",
   "metadata": {},
   "source": [
    "#### 데이터 전처리"
   ]
  },
  {
   "cell_type": "code",
   "execution_count": 86,
   "id": "44ee6ae6-0e89-4320-b30e-7f83d406c2a9",
   "metadata": {},
   "outputs": [
    {
     "name": "stdout",
     "output_type": "stream",
     "text": [
      "   Daily Time Spent on Site   Age  Area Income  Daily Internet Usage  \\\n",
      "0                     62.26  32.0     69481.85                172.83   \n",
      "1                     41.73  31.0     61840.26                207.17   \n",
      "2                     44.40  30.0     57877.15                172.83   \n",
      "3                     59.88  28.0     56180.93                207.17   \n",
      "4                     49.21  30.0     54324.73                201.58   \n",
      "\n",
      "                         Ad Topic Line             City  Gender  \\\n",
      "0      Decentralized real-time circuit         Lisafort       0   \n",
      "1       Optional full-range projection  West Angelabury       0   \n",
      "2  Total 5thgeneration standardization        Reyesfurt       1   \n",
      "3          Balanced empowering success      New Michael       1   \n",
      "4  Total 5thgeneration standardization     West Richard       1   \n",
      "\n",
      "                        Country           Timestamp  Clicked on Ad Age_group  \\\n",
      "0  Svalbard & Jan Mayen Islands 2016-06-09 21:43:05              0     30-34   \n",
      "1                     Singapore 2016-01-16 17:56:05              0     30-34   \n",
      "2                    Guadeloupe 2016-06-29 10:50:45              0     30-34   \n",
      "3                        Zambia 2016-06-21 14:32:32              0     25-29   \n",
      "4                         Qatar 2016-07-21 10:54:35              1     30-34   \n",
      "\n",
      "  Internet Usage Level IncomeGroup SpentonSiteGroup Time  \n",
      "0                  Low        High              Mid    밤  \n",
      "1                 High        High              Low    낮  \n",
      "2                  Low         Mid              Low    낮  \n",
      "3                 High         Mid              Mid    낮  \n",
      "4                 High         Mid              Low    낮  \n"
     ]
    }
   ],
   "source": [
    "# Gender\n",
    "ads['Gender'] = ads['Gender'].map({'Male':0, 'Female':1})\n",
    "\n",
    "# Age\n",
    "bins_age = [0, 24, 29, 34, 39, 44, np.inf]\n",
    "labels_age = ['-25', '25-29', '30-34', '35-39', '40-44', '45+']\n",
    "ads['Age_group'] = pd.cut(ads['Age'], bins = bins_age, labels = labels_age)\n",
    "\n",
    "# Internet Usage\n",
    "median_usage = ads['Daily Internet Usage'].median()\n",
    "ads['Internet Usage Level'] = np.where(ads['Daily Internet Usage'] >= median_usage, 'High', 'Low')\n",
    "\n",
    "# Income\n",
    "ads['IncomeGroup'] = pd.qcut(ads['Area Income'], 3, labels = ['Low', 'Mid', 'High'])\n",
    "\n",
    "# Daily Time Spent on Site\n",
    "ads['SpentonSiteGroup'] = pd.qcut(ads['Daily Time Spent on Site'], 3, labels = ['Low', 'Mid', 'High'])\n",
    "\n",
    "# 시간대\n",
    "def time(hour):\n",
    "    if 0 <= hour < 5:\n",
    "        return '새벽'\n",
    "    elif 5 <= hour < 9:\n",
    "        return '아침'\n",
    "    elif 9 <= hour < 18:\n",
    "        return '낮'\n",
    "    elif 18 <= hour < 21:\n",
    "        return '저녁'\n",
    "    else:\n",
    "        return '밤'\n",
    "\n",
    "ads['Time'] = ads['Timestamp'].dt.hour.apply(time)\n",
    "\n",
    "print(ads.head())"
   ]
  },
  {
   "cell_type": "markdown",
   "id": "89e8dbb1-66c0-4745-bb5e-4b28c3432cb2",
   "metadata": {},
   "source": [
    "#### 로지스틱 회귀 모델링"
   ]
  },
  {
   "cell_type": "code",
   "execution_count": 87,
   "id": "124364d7-f2d4-49c7-b0f5-7a5c120404c3",
   "metadata": {},
   "outputs": [
    {
     "name": "stdout",
     "output_type": "stream",
     "text": [
      "[[831 186]\n",
      " [353 630]]\n",
      "              precision    recall  f1-score   support\n",
      "\n",
      "           0       0.70      0.82      0.76      1017\n",
      "           1       0.77      0.64      0.70       983\n",
      "\n",
      "    accuracy                           0.73      2000\n",
      "   macro avg       0.74      0.73      0.73      2000\n",
      "weighted avg       0.74      0.73      0.73      2000\n",
      "\n"
     ]
    }
   ],
   "source": [
    "X_col = ['Gender', 'Age_group', 'Internet Usage Level', 'IncomeGroup', 'SpentonSiteGroup', 'Time']\n",
    "y_col = ['Clicked on Ad']\n",
    "X = pd.get_dummies(ads[X_col])\n",
    "y = ads[y_col]\n",
    "\n",
    "from sklearn.model_selection import train_test_split\n",
    "X_train, X_test, y_train, y_test = train_test_split(X, y.values.ravel(), test_size = 0.2, stratify = y.values.ravel(), random_state = 0)\n",
    "X_train, X_val, y_train, y_val = train_test_split(X_train, y_train, test_size = 0.25, stratify = y_train, random_state = 0)\n",
    "\n",
    "from sklearn.linear_model import LogisticRegression\n",
    "model = LogisticRegression(max_iter = 1000)\n",
    "model.fit(X_train, y_train)\n",
    "\n",
    "from sklearn.metrics import confusion_matrix, classification_report\n",
    "y_pred_val = model.predict(X_val)\n",
    "print(confusion_matrix(y_val, y_pred_val))\n",
    "print(classification_report(y_val, y_pred_val))"
   ]
  },
  {
   "cell_type": "markdown",
   "id": "f793b196-e63f-4285-9212-b5b47ea5d8a8",
   "metadata": {},
   "source": [
    "#### RandomforestClassifier 모델링"
   ]
  },
  {
   "cell_type": "code",
   "execution_count": 88,
   "id": "db15447f-36bc-4eeb-86e2-f323779df6d8",
   "metadata": {},
   "outputs": [
    {
     "name": "stdout",
     "output_type": "stream",
     "text": [
      "Index(['Daily Time Spent on Site', 'Age', 'Area Income',\n",
      "       'Daily Internet Usage', 'Ad Topic Line', 'City', 'Gender', 'Country',\n",
      "       'Timestamp', 'Clicked on Ad', 'Age_group', 'Internet Usage Level',\n",
      "       'IncomeGroup', 'SpentonSiteGroup', 'Time'],\n",
      "      dtype='object')\n"
     ]
    }
   ],
   "source": [
    "print(ads.columns)"
   ]
  },
  {
   "cell_type": "code",
   "execution_count": 89,
   "id": "20606acc-9a5e-4153-8132-45f22883e41b",
   "metadata": {},
   "outputs": [
    {
     "name": "stdout",
     "output_type": "stream",
     "text": [
      "[[799 218]\n",
      " [248 735]]\n",
      "              precision    recall  f1-score   support\n",
      "\n",
      "           0       0.76      0.79      0.77      1017\n",
      "           1       0.77      0.75      0.76       983\n",
      "\n",
      "    accuracy                           0.77      2000\n",
      "   macro avg       0.77      0.77      0.77      2000\n",
      "weighted avg       0.77      0.77      0.77      2000\n",
      "\n"
     ]
    }
   ],
   "source": [
    "X_col = ['Daily Time Spent on Site', 'Age', 'Area Income', 'Daily Internet Usage', 'Gender', 'Age_group', 'Internet Usage Level',\n",
    "       'IncomeGroup', 'SpentonSiteGroup', 'Time']\n",
    "y_col = ['Clicked on Ad']\n",
    "\n",
    "X = pd.get_dummies(ads[X_col])\n",
    "y = ads[y_col]\n",
    "\n",
    "from sklearn.model_selection import train_test_split\n",
    "X_train, X_test, y_train, y_test = train_test_split(X, y.values.ravel(), test_size = 0.2, stratify = y.values.ravel(), random_state = 0)\n",
    "X_train, X_val, y_train, y_val = train_test_split(X_train, y_train, test_size = 0.25, stratify = y_train, random_state = 0)\n",
    "\n",
    "\n",
    "from sklearn.preprocessing import StandardScaler\n",
    "num_col = ['Daily Time Spent on Site', 'Age', 'Area Income', 'Daily Internet Usage']\n",
    "scaler = StandardScaler()\n",
    "X_train[num_col] = scaler.fit_transform(X_train[num_col])\n",
    "X_val[num_col] = scaler.transform(X_val[num_col])\n",
    "X_test[num_col] = scaler.transform(X_test[num_col])\n",
    "\n",
    "from sklearn.ensemble import RandomForestClassifier\n",
    "rf_model = RandomForestClassifier(random_state = 0)\n",
    "rf_model.fit(X_train, y_train)\n",
    "\n",
    "y_pred_val = rf_model.predict(X_val)\n",
    "\n",
    "from sklearn.metrics import confusion_matrix, classification_report\n",
    "print(confusion_matrix(y_val, y_pred_val))\n",
    "print(classification_report(y_val, y_pred_val))"
   ]
  },
  {
   "cell_type": "markdown",
   "id": "21092444-1173-4795-8224-bf09134f7a20",
   "metadata": {},
   "source": [
    "#### 변수 중요도 시각화"
   ]
  },
  {
   "cell_type": "code",
   "execution_count": 90,
   "id": "61bd2ec3-23ff-4578-8796-78f2054c00f4",
   "metadata": {},
   "outputs": [
    {
     "data": {
      "image/png": "[encoded data removed]",
      "text/plain": [
       "<Figure size 1000x600 with 1 Axes>"
      ]
     },
     "metadata": {},
     "output_type": "display_data"
    }
   ],
   "source": [
    "importances = rf_model.feature_importances_\n",
    "features = X.columns\n",
    "feature_df = pd.DataFrame({'Feature' : features, 'Importance' : importances})\n",
    "feature_df = feature_df.sort_values(by = 'Importance', ascending = True)\n",
    "\n",
    "plt.figure(figsize = (10, 6))\n",
    "plt.barh(feature_df['Feature'], feature_df['Importance'])\n",
    "plt.title('RandomForest Feature Importance')\n",
    "plt.show()"
   ]
  },
  {
   "cell_type": "markdown",
   "id": "853d2b47-4cd2-45a9-8031-376d125ab69e",
   "metadata": {},
   "source": [
    "#### XGBClassifier 모델링"
   ]
  },
  {
   "cell_type": "code",
   "execution_count": 95,
   "id": "f72c00cd-fee5-483a-88a2-11c8b8a198fd",
   "metadata": {},
   "outputs": [
    {
     "name": "stdout",
     "output_type": "stream",
     "text": [
      "[[821 196]\n",
      " [221 762]]\n",
      "              precision    recall  f1-score   support\n",
      "\n",
      "           0       0.79      0.81      0.80      1017\n",
      "           1       0.80      0.78      0.79       983\n",
      "\n",
      "    accuracy                           0.79      2000\n",
      "   macro avg       0.79      0.79      0.79      2000\n",
      "weighted avg       0.79      0.79      0.79      2000\n",
      "\n"
     ]
    }
   ],
   "source": [
    "X_col = ['Daily Time Spent on Site', 'Age', 'Area Income', 'Daily Internet Usage', 'Gender', 'Age_group', 'Internet Usage Level',\n",
    "       'IncomeGroup', 'SpentonSiteGroup', 'Time']\n",
    "y_col = ['Clicked on Ad']\n",
    "\n",
    "X = pd.get_dummies(ads[X_col])\n",
    "y = ads[y_col]\n",
    "\n",
    "from sklearn.model_selection import train_test_split\n",
    "X_train, X_test, y_train, y_test = train_test_split(X, y.values.ravel(), test_size = 0.2, stratify = y.values.ravel(), random_state = 0)\n",
    "X_train, X_val, y_train, y_val = train_test_split(X_train, y_train, test_size = 0.25, stratify = y_train, random_state = 0)\n",
    "\n",
    "from sklearn.preprocessing import StandardScaler\n",
    "num_col = ['Daily Time Spent on Site', 'Age', 'Area Income', 'Daily Internet Usage']\n",
    "scaler = StandardScaler()\n",
    "X_train[num_col] = scaler.fit_transform(X_train[num_col])\n",
    "X_val[num_col] = scaler.transform(X_val[num_col])\n",
    "X_test[num_col] = scaler.transform(X_test[num_col])\n",
    "\n",
    "from xgboost import XGBClassifier\n",
    "xgb_model = XGBClassifier(random_state = 0)\n",
    "xgb_model.fit(X_train, y_train)\n",
    "\n",
    "\n",
    "y_pred_val = xgb_model.predict(X_val)\n",
    "\n",
    "from sklearn.metrics import confusion_matrix, classification_report\n",
    "print(confusion_matrix(y_val, y_pred_val))\n",
    "print(classification_report(y_val, y_pred_val))"
   ]
  },
  {
   "cell_type": "markdown",
   "id": "544c06c2-af2d-4aee-a8c0-3bbfd31ec9bb",
   "metadata": {},
   "source": [
    "#### 변수 중요도 시각화"
   ]
  },
  {
   "cell_type": "code",
   "execution_count": 97,
   "id": "56dbecc7-a263-4146-8550-97fc55a4b96e",
   "metadata": {},
   "outputs": [
    {
     "data": {
      "image/png": "[encoded data removed]",
      "text/plain": [
       "<Figure size 1000x600 with 1 Axes>"
      ]
     },
     "metadata": {},
     "output_type": "display_data"
    }
   ],
   "source": [
    "importances = xgb_model.feature_importances_\n",
    "features = X.columns\n",
    "feature_df = pd.DataFrame({'Feature' : features, 'Importance' : importances})\n",
    "feature_df = feature_df.sort_values(by = 'Importance', ascending = True)\n",
    "\n",
    "plt.figure(figsize = (10, 6))\n",
    "plt.barh(feature_df['Feature'], feature_df['Importance'])\n",
    "plt.title('XGB Feature Importance')\n",
    "plt.show()"
   ]
  },
  {
   "cell_type": "markdown",
   "id": "2b148327-5626-4c47-ac24-21b7281f2887",
   "metadata": {},
   "source": [
    "### XGB GridSearchCV"
   ]
  },
  {
   "cell_type": "code",
   "execution_count": 99,
   "id": "5b361222-eb06-46f4-af85-433ba78eb815",
   "metadata": {},
   "outputs": [
    {
     "name": "stdout",
     "output_type": "stream",
     "text": [
      "Fitting 4 folds for each of 576 candidates, totalling 2304 fits\n"
     ]
    },
    {
     "data": {
      "text/html": [
       "<style>#sk-container-id-8 {\n",
       "  /* Definition of color scheme common for light and dark mode */\n",
       "  --sklearn-color-text: #000;\n",
       "  --sklearn-color-text-muted: #666;\n",
       "  --sklearn-color-line: gray;\n",
       "  /* Definition of color scheme for unfitted estimators */\n",
       "  --sklearn-color-unfitted-level-0: #fff5e6;\n",
       "  --sklearn-color-unfitted-level-1: #f6e4d2;\n",
       "  --sklearn-color-unfitted-level-2: #ffe0b3;\n",
       "  --sklearn-color-unfitted-level-3: chocolate;\n",
       "  /* Definition of color scheme for fitted estimators */\n",
       "  --sklearn-color-fitted-level-0: #f0f8ff;\n",
       "  --sklearn-color-fitted-level-1: #d4ebff;\n",
       "  --sklearn-color-fitted-level-2: #b3dbfd;\n",
       "  --sklearn-color-fitted-level-3: cornflowerblue;\n",
       "\n",
       "  /* Specific color for light theme */\n",
       "  --sklearn-color-text-on-default-background: var(--sg-text-color, var(--theme-code-foreground, var(--jp-content-font-color1, black)));\n",
       "  --sklearn-color-background: var(--sg-background-color, var(--theme-background, var(--jp-layout-color0, white)));\n",
       "  --sklearn-color-border-box: var(--sg-text-color, var(--theme-code-foreground, var(--jp-content-font-color1, black)));\n",
       "  --sklearn-color-icon: #696969;\n",
       "\n",
       "  @media (prefers-color-scheme: dark) {\n",
       "    /* Redefinition of color scheme for dark theme */\n",
       "    --sklearn-color-text-on-default-background: var(--sg-text-color, var(--theme-code-foreground, var(--jp-content-font-color1, white)));\n",
       "    --sklearn-color-background: var(--sg-background-color, var(--theme-background, var(--jp-layout-color0, #111)));\n",
       "    --sklearn-color-border-box: var(--sg-text-color, var(--theme-code-foreground, var(--jp-content-font-color1, white)));\n",
       "    --sklearn-color-icon: #878787;\n",
       "  }\n",
       "}\n",
       "\n",
       "#sk-container-id-8 {\n",
       "  color: var(--sklearn-color-text);\n",
       "}\n",
       "\n",
       "#sk-container-id-8 pre {\n",
       "  padding: 0;\n",
       "}\n",
       "\n",
       "#sk-container-id-8 input.sk-hidden--visually {\n",
       "  border: 0;\n",
       "  clip: rect(1px 1px 1px 1px);\n",
       "  clip: rect(1px, 1px, 1px, 1px);\n",
       "  height: 1px;\n",
       "  margin: -1px;\n",
       "  overflow: hidden;\n",
       "  padding: 0;\n",
       "  position: absolute;\n",
       "  width: 1px;\n",
       "}\n",
       "\n",
       "#sk-container-id-8 div.sk-dashed-wrapped {\n",
       "  border: 1px dashed var(--sklearn-color-line);\n",
       "  margin: 0 0.4em 0.5em 0.4em;\n",
       "  box-sizing: border-box;\n",
       "  padding-bottom: 0.4em;\n",
       "  background-color: var(--sklearn-color-background);\n",
       "}\n",
       "\n",
       "#sk-container-id-8 div.sk-container {\n",
       "  /* jupyter's `normalize.less` sets `[hidden] { display: none; }`\n",
       "     but bootstrap.min.css set `[hidden] { display: none !important; }`\n",
       "     so we also need the `!important` here to be able to override the\n",
       "     default hidden behavior on the sphinx rendered scikit-learn.org.\n",
       "     See: https://github.com/scikit-learn/scikit-learn/issues/21755 */\n",
       "  display: inline-block !important;\n",
       "  position: relative;\n",
       "}\n",
       "\n",
       "#sk-container-id-8 div.sk-text-repr-fallback {\n",
       "  display: none;\n",
       "}\n",
       "\n",
       "div.sk-parallel-item,\n",
       "div.sk-serial,\n",
       "div.sk-item {\n",
       "  /* draw centered vertical line to link estimators */\n",
       "  background-image: linear-gradient(var(--sklearn-color-text-on-default-background), var(--sklearn-color-text-on-default-background));\n",
       "  background-size: 2px 100%;\n",
       "  background-repeat: no-repeat;\n",
       "  background-position: center center;\n",
       "}\n",
       "\n",
       "/* Parallel-specific style estimator block */\n",
       "\n",
       "#sk-container-id-8 div.sk-parallel-item::after {\n",
       "  content: \"\";\n",
       "  width: 100%;\n",
       "  border-bottom: 2px solid var(--sklearn-color-text-on-default-background);\n",
       "  flex-grow: 1;\n",
       "}\n",
       "\n",
       "#sk-container-id-8 div.sk-parallel {\n",
       "  display: flex;\n",
       "  align-items: stretch;\n",
       "  justify-content: center;\n",
       "  background-color: var(--sklearn-color-background);\n",
       "  position: relative;\n",
       "}\n",
       "\n",
       "#sk-container-id-8 div.sk-parallel-item {\n",
       "  display: flex;\n",
       "  flex-direction: column;\n",
       "}\n",
       "\n",
       "#sk-container-id-8 div.sk-parallel-item:first-child::after {\n",
       "  align-self: flex-end;\n",
       "  width: 50%;\n",
       "}\n",
       "\n",
       "#sk-container-id-8 div.sk-parallel-item:last-child::after {\n",
       "  align-self: flex-start;\n",
       "  width: 50%;\n",
       "}\n",
       "\n",
       "#sk-container-id-8 div.sk-parallel-item:only-child::after {\n",
       "  width: 0;\n",
       "}\n",
       "\n",
       "/* Serial-specific style estimator block */\n",
       "\n",
       "#sk-container-id-8 div.sk-serial {\n",
       "  display: flex;\n",
       "  flex-direction: column;\n",
       "  align-items: center;\n",
       "  background-color: var(--sklearn-color-background);\n",
       "  padding-right: 1em;\n",
       "  padding-left: 1em;\n",
       "}\n",
       "\n",
       "\n",
       "/* Toggleable style: style used for estimator/Pipeline/ColumnTransformer box that is\n",
       "clickable and can be expanded/collapsed.\n",
       "- Pipeline and ColumnTransformer use this feature and define the default style\n",
       "- Estimators will overwrite some part of the style using the `sk-estimator` class\n",
       "*/\n",
       "\n",
       "/* Pipeline and ColumnTransformer style (default) */\n",
       "\n",
       "#sk-container-id-8 div.sk-toggleable {\n",
       "  /* Default theme specific background. It is overwritten whether we have a\n",
       "  specific estimator or a Pipeline/ColumnTransformer */\n",
       "  background-color: var(--sklearn-color-background);\n",
       "}\n",
       "\n",
       "/* Toggleable label */\n",
       "#sk-container-id-8 label.sk-toggleable__label {\n",
       "  cursor: pointer;\n",
       "  display: flex;\n",
       "  width: 100%;\n",
       "  margin-bottom: 0;\n",
       "  padding: 0.5em;\n",
       "  box-sizing: border-box;\n",
       "  text-align: center;\n",
       "  align-items: start;\n",
       "  justify-content: space-between;\n",
       "  gap: 0.5em;\n",
       "}\n",
       "\n",
       "#sk-container-id-8 label.sk-toggleable__label .caption {\n",
       "  font-size: 0.6rem;\n",
       "  font-weight: lighter;\n",
       "  color: var(--sklearn-color-text-muted);\n",
       "}\n",
       "\n",
       "#sk-container-id-8 label.sk-toggleable__label-arrow:before {\n",
       "  /* Arrow on the left of the label */\n",
       "  content: \"▸\";\n",
       "  float: left;\n",
       "  margin-right: 0.25em;\n",
       "  color: var(--sklearn-color-icon);\n",
       "}\n",
       "\n",
       "#sk-container-id-8 label.sk-toggleable__label-arrow:hover:before {\n",
       "  color: var(--sklearn-color-text);\n",
       "}\n",
       "\n",
       "/* Toggleable content - dropdown */\n",
       "\n",
       "#sk-container-id-8 div.sk-toggleable__content {\n",
       "  max-height: 0;\n",
       "  max-width: 0;\n",
       "  overflow: hidden;\n",
       "  text-align: left;\n",
       "  /* unfitted */\n",
       "  background-color: var(--sklearn-color-unfitted-level-0);\n",
       "}\n",
       "\n",
       "#sk-container-id-8 div.sk-toggleable__content.fitted {\n",
       "  /* fitted */\n",
       "  background-color: var(--sklearn-color-fitted-level-0);\n",
       "}\n",
       "\n",
       "#sk-container-id-8 div.sk-toggleable__content pre {\n",
       "  margin: 0.2em;\n",
       "  border-radius: 0.25em;\n",
       "  color: var(--sklearn-color-text);\n",
       "  /* unfitted */\n",
       "  background-color: var(--sklearn-color-unfitted-level-0);\n",
       "}\n",
       "\n",
       "#sk-container-id-8 div.sk-toggleable__content.fitted pre {\n",
       "  /* unfitted */\n",
       "  background-color: var(--sklearn-color-fitted-level-0);\n",
       "}\n",
       "\n",
       "#sk-container-id-8 input.sk-toggleable__control:checked~div.sk-toggleable__content {\n",
       "  /* Expand drop-down */\n",
       "  max-height: 200px;\n",
       "  max-width: 100%;\n",
       "  overflow: auto;\n",
       "}\n",
       "\n",
       "#sk-container-id-8 input.sk-toggleable__control:checked~label.sk-toggleable__label-arrow:before {\n",
       "  content: \"▾\";\n",
       "}\n",
       "\n",
       "/* Pipeline/ColumnTransformer-specific style */\n",
       "\n",
       "#sk-container-id-8 div.sk-label input.sk-toggleable__control:checked~label.sk-toggleable__label {\n",
       "  color: var(--sklearn-color-text);\n",
       "  background-color: var(--sklearn-color-unfitted-level-2);\n",
       "}\n",
       "\n",
       "#sk-container-id-8 div.sk-label.fitted input.sk-toggleable__control:checked~label.sk-toggleable__label {\n",
       "  background-color: var(--sklearn-color-fitted-level-2);\n",
       "}\n",
       "\n",
       "/* Estimator-specific style */\n",
       "\n",
       "/* Colorize estimator box */\n",
       "#sk-container-id-8 div.sk-estimator input.sk-toggleable__control:checked~label.sk-toggleable__label {\n",
       "  /* unfitted */\n",
       "  background-color: var(--sklearn-color-unfitted-level-2);\n",
       "}\n",
       "\n",
       "#sk-container-id-8 div.sk-estimator.fitted input.sk-toggleable__control:checked~label.sk-toggleable__label {\n",
       "  /* fitted */\n",
       "  background-color: var(--sklearn-color-fitted-level-2);\n",
       "}\n",
       "\n",
       "#sk-container-id-8 div.sk-label label.sk-toggleable__label,\n",
       "#sk-container-id-8 div.sk-label label {\n",
       "  /* The background is the default theme color */\n",
       "  color: var(--sklearn-color-text-on-default-background);\n",
       "}\n",
       "\n",
       "/* On hover, darken the color of the background */\n",
       "#sk-container-id-8 div.sk-label:hover label.sk-toggleable__label {\n",
       "  color: var(--sklearn-color-text);\n",
       "  background-color: var(--sklearn-color-unfitted-level-2);\n",
       "}\n",
       "\n",
       "/* Label box, darken color on hover, fitted */\n",
       "#sk-container-id-8 div.sk-label.fitted:hover label.sk-toggleable__label.fitted {\n",
       "  color: var(--sklearn-color-text);\n",
       "  background-color: var(--sklearn-color-fitted-level-2);\n",
       "}\n",
       "\n",
       "/* Estimator label */\n",
       "\n",
       "#sk-container-id-8 div.sk-label label {\n",
       "  font-family: monospace;\n",
       "  font-weight: bold;\n",
       "  display: inline-block;\n",
       "  line-height: 1.2em;\n",
       "}\n",
       "\n",
       "#sk-container-id-8 div.sk-label-container {\n",
       "  text-align: center;\n",
       "}\n",
       "\n",
       "/* Estimator-specific */\n",
       "#sk-container-id-8 div.sk-estimator {\n",
       "  font-family: monospace;\n",
       "  border: 1px dotted var(--sklearn-color-border-box);\n",
       "  border-radius: 0.25em;\n",
       "  box-sizing: border-box;\n",
       "  margin-bottom: 0.5em;\n",
       "  /* unfitted */\n",
       "  background-color: var(--sklearn-color-unfitted-level-0);\n",
       "}\n",
       "\n",
       "#sk-container-id-8 div.sk-estimator.fitted {\n",
       "  /* fitted */\n",
       "  background-color: var(--sklearn-color-fitted-level-0);\n",
       "}\n",
       "\n",
       "/* on hover */\n",
       "#sk-container-id-8 div.sk-estimator:hover {\n",
       "  /* unfitted */\n",
       "  background-color: var(--sklearn-color-unfitted-level-2);\n",
       "}\n",
       "\n",
       "#sk-container-id-8 div.sk-estimator.fitted:hover {\n",
       "  /* fitted */\n",
       "  background-color: var(--sklearn-color-fitted-level-2);\n",
       "}\n",
       "\n",
       "/* Specification for estimator info (e.g. \"i\" and \"?\") */\n",
       "\n",
       "/* Common style for \"i\" and \"?\" */\n",
       "\n",
       ".sk-estimator-doc-link,\n",
       "a:link.sk-estimator-doc-link,\n",
       "a:visited.sk-estimator-doc-link {\n",
       "  float: right;\n",
       "  font-size: smaller;\n",
       "  line-height: 1em;\n",
       "  font-family: monospace;\n",
       "  background-color: var(--sklearn-color-background);\n",
       "  border-radius: 1em;\n",
       "  height: 1em;\n",
       "  width: 1em;\n",
       "  text-decoration: none !important;\n",
       "  margin-left: 0.5em;\n",
       "  text-align: center;\n",
       "  /* unfitted */\n",
       "  border: var(--sklearn-color-unfitted-level-1) 1pt solid;\n",
       "  color: var(--sklearn-color-unfitted-level-1);\n",
       "}\n",
       "\n",
       ".sk-estimator-doc-link.fitted,\n",
       "a:link.sk-estimator-doc-link.fitted,\n",
       "a:visited.sk-estimator-doc-link.fitted {\n",
       "  /* fitted */\n",
       "  border: var(--sklearn-color-fitted-level-1) 1pt solid;\n",
       "  color: var(--sklearn-color-fitted-level-1);\n",
       "}\n",
       "\n",
       "/* On hover */\n",
       "div.sk-estimator:hover .sk-estimator-doc-link:hover,\n",
       ".sk-estimator-doc-link:hover,\n",
       "div.sk-label-container:hover .sk-estimator-doc-link:hover,\n",
       ".sk-estimator-doc-link:hover {\n",
       "  /* unfitted */\n",
       "  background-color: var(--sklearn-color-unfitted-level-3);\n",
       "  color: var(--sklearn-color-background);\n",
       "  text-decoration: none;\n",
       "}\n",
       "\n",
       "div.sk-estimator.fitted:hover .sk-estimator-doc-link.fitted:hover,\n",
       ".sk-estimator-doc-link.fitted:hover,\n",
       "div.sk-label-container:hover .sk-estimator-doc-link.fitted:hover,\n",
       ".sk-estimator-doc-link.fitted:hover {\n",
       "  /* fitted */\n",
       "  background-color: var(--sklearn-color-fitted-level-3);\n",
       "  color: var(--sklearn-color-background);\n",
       "  text-decoration: none;\n",
       "}\n",
       "\n",
       "/* Span, style for the box shown on hovering the info icon */\n",
       ".sk-estimator-doc-link span {\n",
       "  display: none;\n",
       "  z-index: 9999;\n",
       "  position: relative;\n",
       "  font-weight: normal;\n",
       "  right: .2ex;\n",
       "  padding: .5ex;\n",
       "  margin: .5ex;\n",
       "  width: min-content;\n",
       "  min-width: 20ex;\n",
       "  max-width: 50ex;\n",
       "  color: var(--sklearn-color-text);\n",
       "  box-shadow: 2pt 2pt 4pt #999;\n",
       "  /* unfitted */\n",
       "  background: var(--sklearn-color-unfitted-level-0);\n",
       "  border: .5pt solid var(--sklearn-color-unfitted-level-3);\n",
       "}\n",
       "\n",
       ".sk-estimator-doc-link.fitted span {\n",
       "  /* fitted */\n",
       "  background: var(--sklearn-color-fitted-level-0);\n",
       "  border: var(--sklearn-color-fitted-level-3);\n",
       "}\n",
       "\n",
       ".sk-estimator-doc-link:hover span {\n",
       "  display: block;\n",
       "}\n",
       "\n",
       "/* \"?\"-specific style due to the `<a>` HTML tag */\n",
       "\n",
       "#sk-container-id-8 a.estimator_doc_link {\n",
       "  float: right;\n",
       "  font-size: 1rem;\n",
       "  line-height: 1em;\n",
       "  font-family: monospace;\n",
       "  background-color: var(--sklearn-color-background);\n",
       "  border-radius: 1rem;\n",
       "  height: 1rem;\n",
       "  width: 1rem;\n",
       "  text-decoration: none;\n",
       "  /* unfitted */\n",
       "  color: var(--sklearn-color-unfitted-level-1);\n",
       "  border: var(--sklearn-color-unfitted-level-1) 1pt solid;\n",
       "}\n",
       "\n",
       "#sk-container-id-8 a.estimator_doc_link.fitted {\n",
       "  /* fitted */\n",
       "  border: var(--sklearn-color-fitted-level-1) 1pt solid;\n",
       "  color: var(--sklearn-color-fitted-level-1);\n",
       "}\n",
       "\n",
       "/* On hover */\n",
       "#sk-container-id-8 a.estimator_doc_link:hover {\n",
       "  /* unfitted */\n",
       "  background-color: var(--sklearn-color-unfitted-level-3);\n",
       "  color: var(--sklearn-color-background);\n",
       "  text-decoration: none;\n",
       "}\n",
       "\n",
       "#sk-container-id-8 a.estimator_doc_link.fitted:hover {\n",
       "  /* fitted */\n",
       "  background-color: var(--sklearn-color-fitted-level-3);\n",
       "}\n",
       "</style><div id=\"sk-container-id-8\" class=\"sk-top-container\"><div class=\"sk-text-repr-fallback\"><pre>GridSearchCV(cv=4,\n",
       "             estimator=XGBClassifier(base_score=None, booster=None,\n",
       "                                     callbacks=None, colsample_bylevel=None,\n",
       "                                     colsample_bynode=None,\n",
       "                                     colsample_bytree=None, device=None,\n",
       "                                     early_stopping_rounds=None,\n",
       "                                     enable_categorical=False,\n",
       "                                     eval_metric=&#x27;logloss&#x27;, feature_types=None,\n",
       "                                     gamma=None, grow_policy=None,\n",
       "                                     importance_type=None,\n",
       "                                     interaction_constraints=None,\n",
       "                                     learning_rate=...\n",
       "                                     max_leaves=None, min_child_weight=None,\n",
       "                                     missing=nan, monotone_constraints=None,\n",
       "                                     multi_strategy=None, n_estimators=None,\n",
       "                                     n_jobs=None, num_parallel_tree=None,\n",
       "                                     random_state=0, ...),\n",
       "             n_jobs=-1,\n",
       "             param_grid={&#x27;colsample_bytree&#x27;: [0.8, 1], &#x27;gamma&#x27;: [0, 0.1, 0.2],\n",
       "                         &#x27;learning_rate&#x27;: [0.01, 0.05, 0.1, 0.2],\n",
       "                         &#x27;max_depth&#x27;: [3, 4, 5, 6],\n",
       "                         &#x27;n_estimators&#x27;: [100, 200, 300],\n",
       "                         &#x27;subsample&#x27;: [0.8, 1]},\n",
       "             scoring=&#x27;roc_auc&#x27;, verbose=2)</pre><b>In a Jupyter environment, please rerun this cell to show the HTML representation or trust the notebook. <br />On GitHub, the HTML representation is unable to render, please try loading this page with nbviewer.org.</b></div><div class=\"sk-container\" hidden><div class=\"sk-item sk-dashed-wrapped\"><div class=\"sk-label-container\"><div class=\"sk-label fitted sk-toggleable\"><input class=\"sk-toggleable__control sk-hidden--visually\" id=\"sk-estimator-id-8\" type=\"checkbox\" ><label for=\"sk-estimator-id-8\" class=\"sk-toggleable__label fitted sk-toggleable__label-arrow\"><div><div>GridSearchCV</div></div><div><a class=\"sk-estimator-doc-link fitted\" rel=\"noreferrer\" target=\"_blank\" href=\"https://scikit-learn.org/1.6/modules/generated/sklearn.model_selection.GridSearchCV.html\">?<span>Documentation for GridSearchCV</span></a><span class=\"sk-estimator-doc-link fitted\">i<span>Fitted</span></span></div></label><div class=\"sk-toggleable__content fitted\"><pre>GridSearchCV(cv=4,\n",
       "             estimator=XGBClassifier(base_score=None, booster=None,\n",
       "                                     callbacks=None, colsample_bylevel=None,\n",
       "                                     colsample_bynode=None,\n",
       "                                     colsample_bytree=None, device=None,\n",
       "                                     early_stopping_rounds=None,\n",
       "                                     enable_categorical=False,\n",
       "                                     eval_metric=&#x27;logloss&#x27;, feature_types=None,\n",
       "                                     gamma=None, grow_policy=None,\n",
       "                                     importance_type=None,\n",
       "                                     interaction_constraints=None,\n",
       "                                     learning_rate=...\n",
       "                                     max_leaves=None, min_child_weight=None,\n",
       "                                     missing=nan, monotone_constraints=None,\n",
       "                                     multi_strategy=None, n_estimators=None,\n",
       "                                     n_jobs=None, num_parallel_tree=None,\n",
       "                                     random_state=0, ...),\n",
       "             n_jobs=-1,\n",
       "             param_grid={&#x27;colsample_bytree&#x27;: [0.8, 1], &#x27;gamma&#x27;: [0, 0.1, 0.2],\n",
       "                         &#x27;learning_rate&#x27;: [0.01, 0.05, 0.1, 0.2],\n",
       "                         &#x27;max_depth&#x27;: [3, 4, 5, 6],\n",
       "                         &#x27;n_estimators&#x27;: [100, 200, 300],\n",
       "                         &#x27;subsample&#x27;: [0.8, 1]},\n",
       "             scoring=&#x27;roc_auc&#x27;, verbose=2)</pre></div> </div></div><div class=\"sk-parallel\"><div class=\"sk-parallel-item\"><div class=\"sk-item\"><div class=\"sk-label-container\"><div class=\"sk-label fitted sk-toggleable\"><input class=\"sk-toggleable__control sk-hidden--visually\" id=\"sk-estimator-id-9\" type=\"checkbox\" ><label for=\"sk-estimator-id-9\" class=\"sk-toggleable__label fitted sk-toggleable__label-arrow\"><div><div>best_estimator_: XGBClassifier</div></div></label><div class=\"sk-toggleable__content fitted\"><pre>XGBClassifier(base_score=None, booster=None, callbacks=None,\n",
       "              colsample_bylevel=None, colsample_bynode=None,\n",
       "              colsample_bytree=0.8, device=None, early_stopping_rounds=None,\n",
       "              enable_categorical=False, eval_metric=&#x27;logloss&#x27;,\n",
       "              feature_types=None, gamma=0.1, grow_policy=None,\n",
       "              importance_type=None, interaction_constraints=None,\n",
       "              learning_rate=0.2, max_bin=None, max_cat_threshold=None,\n",
       "              max_cat_to_onehot=None, max_delta_step=None, max_depth=4,\n",
       "              max_leaves=None, min_child_weight=None, missing=nan,\n",
       "              monotone_constraints=None, multi_strategy=None, n_estimators=300,\n",
       "              n_jobs=None, num_parallel_tree=None, random_state=0, ...)</pre></div> </div></div><div class=\"sk-serial\"><div class=\"sk-item\"><div class=\"sk-estimator fitted sk-toggleable\"><input class=\"sk-toggleable__control sk-hidden--visually\" id=\"sk-estimator-id-10\" type=\"checkbox\" ><label for=\"sk-estimator-id-10\" class=\"sk-toggleable__label fitted sk-toggleable__label-arrow\"><div><div>XGBClassifier</div></div></label><div class=\"sk-toggleable__content fitted\"><pre>XGBClassifier(base_score=None, booster=None, callbacks=None,\n",
       "              colsample_bylevel=None, colsample_bynode=None,\n",
       "              colsample_bytree=0.8, device=None, early_stopping_rounds=None,\n",
       "              enable_categorical=False, eval_metric=&#x27;logloss&#x27;,\n",
       "              feature_types=None, gamma=0.1, grow_policy=None,\n",
       "              importance_type=None, interaction_constraints=None,\n",
       "              learning_rate=0.2, max_bin=None, max_cat_threshold=None,\n",
       "              max_cat_to_onehot=None, max_delta_step=None, max_depth=4,\n",
       "              max_leaves=None, min_child_weight=None, missing=nan,\n",
       "              monotone_constraints=None, multi_strategy=None, n_estimators=300,\n",
       "              n_jobs=None, num_parallel_tree=None, random_state=0, ...)</pre></div> </div></div></div></div></div></div></div></div></div>"
      ],
      "text/plain": [
       "GridSearchCV(cv=4,\n",
       "             estimator=XGBClassifier(base_score=None, booster=None,\n",
       "                                     callbacks=None, colsample_bylevel=None,\n",
       "                                     colsample_bynode=None,\n",
       "                                     colsample_bytree=None, device=None,\n",
       "                                     early_stopping_rounds=None,\n",
       "                                     enable_categorical=False,\n",
       "                                     eval_metric='logloss', feature_types=None,\n",
       "                                     gamma=None, grow_policy=None,\n",
       "                                     importance_type=None,\n",
       "                                     interaction_constraints=None,\n",
       "                                     learning_rate=...\n",
       "                                     max_leaves=None, min_child_weight=None,\n",
       "                                     missing=nan, monotone_constraints=None,\n",
       "                                     multi_strategy=None, n_estimators=None,\n",
       "                                     n_jobs=None, num_parallel_tree=None,\n",
       "                                     random_state=0, ...),\n",
       "             n_jobs=-1,\n",
       "             param_grid={'colsample_bytree': [0.8, 1], 'gamma': [0, 0.1, 0.2],\n",
       "                         'learning_rate': [0.01, 0.05, 0.1, 0.2],\n",
       "                         'max_depth': [3, 4, 5, 6],\n",
       "                         'n_estimators': [100, 200, 300],\n",
       "                         'subsample': [0.8, 1]},\n",
       "             scoring='roc_auc', verbose=2)"
      ]
     },
     "execution_count": 99,
     "metadata": {},
     "output_type": "execute_result"
    }
   ],
   "source": [
    "from sklearn.model_selection import GridSearchCV\n",
    "import numpy as np\n",
    "\n",
    "neg, pos = np.bincount(y_train)\n",
    "scale_pos_weight = neg/pos\n",
    "\n",
    "xgb = XGBClassifier(\n",
    "    objective = 'binary:logistic',\n",
    "    random_state = 0,\n",
    "    eval_metric = 'logloss',\n",
    "    scale_pos_weight = scale_pos_weight\n",
    ")\n",
    "\n",
    "param_grid = {\n",
    "    'max_depth': [3, 4, 5, 6],\n",
    "    'learning_rate': [0.01, 0.05, 0.1, 0.2],\n",
    "    'n_estimators': [100, 200, 300],\n",
    "    'subsample': [0.8, 1],\n",
    "    'colsample_bytree': [0.8, 1],\n",
    "    'gamma': [0, 0.1, 0.2],\n",
    "}\n",
    "\n",
    "grid_search = GridSearchCV(\n",
    "    estimator=xgb,\n",
    "    param_grid=param_grid,\n",
    "    scoring='roc_auc',  # roc_auc 기준으로 최적 탐색\n",
    "    cv=4,               # 3-fold cross validation\n",
    "    verbose=2,\n",
    "    n_jobs=-1           # CPU 모두 사용\n",
    ")\n",
    "\n",
    "grid_search.fit(X_train, y_train)\n"
   ]
  },
  {
   "cell_type": "code",
   "execution_count": 101,
   "id": "ce8e6fa6-f418-4e40-a4a7-d17fa8db44a5",
   "metadata": {},
   "outputs": [
    {
     "name": "stdout",
     "output_type": "stream",
     "text": [
      "hyperparameter:  {'colsample_bytree': 0.8, 'gamma': 0.1, 'learning_rate': 0.2, 'max_depth': 4, 'n_estimators': 300, 'subsample': 1}\n",
      "best_score:  0.881742114610892\n"
     ]
    }
   ],
   "source": [
    "print('hyperparameter: ', grid_search.best_params_)\n",
    "print('best_score: ', grid_search.best_score_)\n",
    "\n",
    "best_model = grid_search.best_estimator_"
   ]
  },
  {
   "cell_type": "code",
   "execution_count": 103,
   "id": "3e697be8-993d-4863-9272-88ed697c5222",
   "metadata": {},
   "outputs": [
    {
     "name": "stdout",
     "output_type": "stream",
     "text": [
      "[[825 192]\n",
      " [197 786]]\n",
      "              precision    recall  f1-score   support\n",
      "\n",
      "           0       0.81      0.81      0.81      1017\n",
      "           1       0.80      0.80      0.80       983\n",
      "\n",
      "    accuracy                           0.81      2000\n",
      "   macro avg       0.81      0.81      0.81      2000\n",
      "weighted avg       0.81      0.81      0.81      2000\n",
      "\n",
      "0.8871468854498952\n"
     ]
    }
   ],
   "source": [
    "from sklearn.metrics import confusion_matrix, classification_report, roc_auc_score\n",
    "\n",
    "y_val_pred = best_model.predict(X_val)\n",
    "y_val_pred_proba = best_model.predict_proba(X_val)[:, 1]\n",
    "\n",
    "print(confusion_matrix(y_val, y_val_pred))\n",
    "print(classification_report(y_val, y_val_pred))\n",
    "print(roc_auc_score(y_val, y_val_pred_proba))\n"
   ]
  },
  {
   "cell_type": "markdown",
   "id": "27974b9c-20a6-4d33-8f21-8bc808fb48c9",
   "metadata": {},
   "source": [
    "#### 최종 평가"
   ]
  },
  {
   "cell_type": "code",
   "execution_count": 104,
   "id": "e1f2bad6-3230-427d-920c-34f06457e052",
   "metadata": {},
   "outputs": [
    {
     "name": "stdout",
     "output_type": "stream",
     "text": [
      "[[821 196]\n",
      " [183 800]]\n",
      "              precision    recall  f1-score   support\n",
      "\n",
      "           0       0.82      0.81      0.81      1017\n",
      "           1       0.80      0.81      0.81       983\n",
      "\n",
      "    accuracy                           0.81      2000\n",
      "   macro avg       0.81      0.81      0.81      2000\n",
      "weighted avg       0.81      0.81      0.81      2000\n",
      "\n",
      "0.8875134913990144\n"
     ]
    }
   ],
   "source": [
    "from sklearn.metrics import confusion_matrix, classification_report, roc_auc_score\n",
    "\n",
    "y_pred = best_model.predict(X_test)\n",
    "y_pred_proba = best_model.predict_proba(X_test)[:, 1]\n",
    "\n",
    "print(confusion_matrix(y_test, y_pred))\n",
    "print(classification_report(y_test, y_pred))\n",
    "print(roc_auc_score(y_test, y_pred_proba))"
   ]
  },
  {
   "cell_type": "code",
   "execution_count": null,
   "id": "ee176156-e80a-4911-b946-096137e9efa5",
   "metadata": {},
   "outputs": [],
   "source": []
  },
  {
   "cell_type": "code",
   "execution_count": null,
   "id": "dfba4a45-a6c3-4803-a8ed-7664e19903e8",
   "metadata": {},
   "outputs": [],
   "source": []
  },
  {
   "cell_type": "code",
   "execution_count": null,
   "id": "310121de-0941-4406-aa68-428c8b418181",
   "metadata": {},
   "outputs": [],
   "source": []
  },
  {
   "cell_type": "markdown",
   "id": "04fa0416-7aa0-4623-9d12-d97ab0c66bac",
   "metadata": {},
   "source": [
    "### 7. 클러스터링 (비지도 학습)으로 유저 군집 나누기"
   ]
  },
  {
   "cell_type": "code",
   "execution_count": null,
   "id": "649f498f-7440-4132-9ed3-0a7f5140539c",
   "metadata": {},
   "outputs": [],
   "source": []
  },
  {
   "cell_type": "code",
   "execution_count": null,
   "id": "7cf6af93-5265-47d6-8bb3-6eb06f88f010",
   "metadata": {},
   "outputs": [],
   "source": []
  },
  {
   "cell_type": "code",
   "execution_count": null,
   "id": "225d69f7-7398-4595-bbb7-1dfa042644ef",
   "metadata": {},
   "outputs": [],
   "source": []
  }
 ],
 "metadata": {
  "kernelspec": {
   "display_name": "Python 3 (ipykernel)",
   "language": "python",
   "name": "python3"
  },
  "language_info": {
   "codemirror_mode": {
    "name": "ipython",
    "version": 3
   },
   "file_extension": ".py",
   "mimetype": "text/x-python",
   "name": "python",
   "nbconvert_exporter": "python",
   "pygments_lexer": "ipython3",
   "version": "3.9.13"
  }
 },
 "nbformat": 4,
 "nbformat_minor": 5
}
