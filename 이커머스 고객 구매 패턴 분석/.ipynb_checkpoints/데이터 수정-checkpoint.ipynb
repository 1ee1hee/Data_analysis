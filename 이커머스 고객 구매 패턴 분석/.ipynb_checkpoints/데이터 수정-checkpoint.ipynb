{
 "cells": [
  {
   "cell_type": "code",
   "execution_count": 4,
   "id": "8079be57-9d05-4e0b-a015-317690d50927",
   "metadata": {},
   "outputs": [
    {
     "name": "stdout",
     "output_type": "stream",
     "text": [
      "✅ 파일 저장 완료! (상품_데이터_최종.csv, 주문_데이터_최종.csv)\n"
     ]
    }
   ],
   "source": [
    "import pandas as pd\n",
    "import numpy as np\n",
    "import random\n",
    "import string\n",
    "\n",
    "# --- 1. 상품 데이터 생성 ---\n",
    "products = []\n",
    "\n",
    "def random_product_name(length=8):\n",
    "    return ''.join(random.choices(string.ascii_lowercase, k=length))\n",
    "\n",
    "for i in range(1, 301):  # 상품 300개\n",
    "    price = random.randint(5000, 1500000)  # 상품 가격: 5천원 ~ 150만원\n",
    "    products.append({\n",
    "        'product_id': f'P{i:04d}',\n",
    "        'product_name': random_product_name(),\n",
    "        'price': price\n",
    "    })\n",
    "\n",
    "products_df = pd.DataFrame(products)\n",
    "\n",
    "# --- 2. 주문 데이터 생성 ---\n",
    "customer_ids = [f'CUST{str(i).zfill(4)}' for i in range(1, 2001)]  # 고객 2000명\n",
    "order_list = []\n",
    "\n",
    "date_range = pd.date_range(start=\"2023-01-01\", end=\"2025-04-07\", freq='D')\n",
    "order_id_counter = 10000\n",
    "\n",
    "for customer_id in customer_ids:\n",
    "    order_count = np.random.choice([1,2,3,5,10,15,20], p=[0.25, 0.2, 0.2, 0.15, 0.1, 0.05, 0.05])\n",
    "    for _ in range(order_count):\n",
    "        order_date = np.random.choice(date_range)\n",
    "        \n",
    "        # 랜덤한 시간 추가\n",
    "        random_time = pd.Timedelta(\n",
    "            hours=random.randint(0, 23),\n",
    "            minutes=random.randint(0, 59),\n",
    "            seconds=random.randint(0, 59)\n",
    "        )\n",
    "        full_order_datetime = order_date + random_time\n",
    "\n",
    "        product_row = products_df.sample(1).iloc[0]\n",
    "        product_id = product_row['product_id']\n",
    "        price = product_row['price']\n",
    "        quantity = random.choice([1, 2, 3, 5, 10])\n",
    "        \n",
    "        order_list.append({\n",
    "            'order_id': f'ORDER{order_id_counter}',\n",
    "            'customer_id': customer_id,\n",
    "            'product_id': product_id,\n",
    "            'quantity': quantity,\n",
    "            'price': price,\n",
    "            'order_date': full_order_datetime  # 수정된 부분\n",
    "        })\n",
    "        order_id_counter += 1\n",
    "\n",
    "orders_df = pd.DataFrame(order_list)\n",
    "\n",
    "# --- 3. 파일 저장 ---\n",
    "products_df.to_csv('data/상품_데이터_최종.csv', index=False, encoding='utf-8-sig')\n",
    "orders_df.to_csv('data/주문_데이터_최종.csv', index=False, encoding='utf-8-sig')\n",
    "\n",
    "print(\"✅ 파일 저장 완료! (상품_데이터_최종.csv, 주문_데이터_최종.csv)\")"
   ]
  },
  {
   "cell_type": "code",
   "execution_count": null,
   "id": "f53497aa-706a-44a3-b980-b3abe2583ca6",
   "metadata": {},
   "outputs": [],
   "source": []
  }
 ],
 "metadata": {
  "kernelspec": {
   "display_name": "Python 3 (ipykernel)",
   "language": "python",
   "name": "python3"
  },
  "language_info": {
   "codemirror_mode": {
    "name": "ipython",
    "version": 3
   },
   "file_extension": ".py",
   "mimetype": "text/x-python",
   "name": "python",
   "nbconvert_exporter": "python",
   "pygments_lexer": "ipython3",
   "version": "3.9.13"
  }
 },
 "nbformat": 4,
 "nbformat_minor": 5
}
